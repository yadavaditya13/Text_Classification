{
 "cells": [
  {
   "cell_type": "code",
   "execution_count": 1,
   "metadata": {},
   "outputs": [
    {
     "name": "stderr",
     "output_type": "stream",
     "text": [
      "Using TensorFlow backend.\n"
     ]
    }
   ],
   "source": [
    "# importing required packages\n",
    "\n",
    "from keras.layers import Dense, Dropout, LSTM, Embedding\n",
    "from keras.preprocessing.sequence import pad_sequences\n",
    "from keras.preprocessing.text import Tokenizer\n",
    "from keras.callbacks import EarlyStopping\n",
    "from keras.utils import to_categorical\n",
    "from keras.models import Sequential\n",
    "\n",
    "from sklearn.model_selection import train_test_split\n",
    "from sklearn.metrics import classification_report\n",
    "from matplotlib import pyplot as plt\n",
    "from tqdm import tqdm\n",
    "import pandas as pd\n",
    "import numpy as np"
   ]
  },
  {
   "cell_type": "code",
   "execution_count": 2,
   "metadata": {},
   "outputs": [
    {
     "name": "stdout",
     "output_type": "stream",
     "text": [
      "[INFO] Dataset Rows: 50000\n",
      "[INFO] Dataset Columns: 2\n"
     ]
    }
   ],
   "source": [
    "# loading the IMDB-Review dataset\n",
    "df = pd.read_csv(\"IMDB Dataset.csv\")\n",
    "\n",
    "# let's have a look at the shape of the given dataset\n",
    "print(\"[INFO] Dataset Rows: {}\\n[INFO] Dataset Columns: {}\".format(df.shape[0], df.shape[1]))"
   ]
  },
  {
   "cell_type": "code",
   "execution_count": 3,
   "metadata": {},
   "outputs": [
    {
     "data": {
      "text/html": [
       "<div>\n",
       "<style scoped>\n",
       "    .dataframe tbody tr th:only-of-type {\n",
       "        vertical-align: middle;\n",
       "    }\n",
       "\n",
       "    .dataframe tbody tr th {\n",
       "        vertical-align: top;\n",
       "    }\n",
       "\n",
       "    .dataframe thead th {\n",
       "        text-align: right;\n",
       "    }\n",
       "</style>\n",
       "<table border=\"1\" class=\"dataframe\">\n",
       "  <thead>\n",
       "    <tr style=\"text-align: right;\">\n",
       "      <th></th>\n",
       "      <th>review</th>\n",
       "      <th>sentiment</th>\n",
       "    </tr>\n",
       "  </thead>\n",
       "  <tbody>\n",
       "    <tr>\n",
       "      <td>0</td>\n",
       "      <td>One of the other reviewers has mentioned that ...</td>\n",
       "      <td>positive</td>\n",
       "    </tr>\n",
       "    <tr>\n",
       "      <td>1</td>\n",
       "      <td>A wonderful little production. &lt;br /&gt;&lt;br /&gt;The...</td>\n",
       "      <td>positive</td>\n",
       "    </tr>\n",
       "    <tr>\n",
       "      <td>2</td>\n",
       "      <td>I thought this was a wonderful way to spend ti...</td>\n",
       "      <td>positive</td>\n",
       "    </tr>\n",
       "    <tr>\n",
       "      <td>3</td>\n",
       "      <td>Basically there's a family where a little boy ...</td>\n",
       "      <td>negative</td>\n",
       "    </tr>\n",
       "    <tr>\n",
       "      <td>4</td>\n",
       "      <td>Petter Mattei's \"Love in the Time of Money\" is...</td>\n",
       "      <td>positive</td>\n",
       "    </tr>\n",
       "    <tr>\n",
       "      <td>5</td>\n",
       "      <td>Probably my all-time favorite movie, a story o...</td>\n",
       "      <td>positive</td>\n",
       "    </tr>\n",
       "    <tr>\n",
       "      <td>6</td>\n",
       "      <td>I sure would like to see a resurrection of a u...</td>\n",
       "      <td>positive</td>\n",
       "    </tr>\n",
       "    <tr>\n",
       "      <td>7</td>\n",
       "      <td>This show was an amazing, fresh &amp; innovative i...</td>\n",
       "      <td>negative</td>\n",
       "    </tr>\n",
       "    <tr>\n",
       "      <td>8</td>\n",
       "      <td>Encouraged by the positive comments about this...</td>\n",
       "      <td>negative</td>\n",
       "    </tr>\n",
       "    <tr>\n",
       "      <td>9</td>\n",
       "      <td>If you like original gut wrenching laughter yo...</td>\n",
       "      <td>positive</td>\n",
       "    </tr>\n",
       "  </tbody>\n",
       "</table>\n",
       "</div>"
      ],
      "text/plain": [
       "                                              review sentiment\n",
       "0  One of the other reviewers has mentioned that ...  positive\n",
       "1  A wonderful little production. <br /><br />The...  positive\n",
       "2  I thought this was a wonderful way to spend ti...  positive\n",
       "3  Basically there's a family where a little boy ...  negative\n",
       "4  Petter Mattei's \"Love in the Time of Money\" is...  positive\n",
       "5  Probably my all-time favorite movie, a story o...  positive\n",
       "6  I sure would like to see a resurrection of a u...  positive\n",
       "7  This show was an amazing, fresh & innovative i...  negative\n",
       "8  Encouraged by the positive comments about this...  negative\n",
       "9  If you like original gut wrenching laughter yo...  positive"
      ]
     },
     "execution_count": 3,
     "metadata": {},
     "output_type": "execute_result"
    }
   ],
   "source": [
    "# let's have a look at the data\n",
    "df.head(10)"
   ]
  },
  {
   "cell_type": "code",
   "execution_count": 4,
   "metadata": {},
   "outputs": [
    {
     "name": "stdout",
     "output_type": "stream",
     "text": [
      "[INFO] Let's have a look at first 5 reviews:\n",
      "\n",
      "One of the other reviewers has mentioned that after watching just 1 Oz episode you'll be hooked. They are right, as this is exactly what happened with me.<br /><br />The first thing that struck me about Oz was its brutality and unflinching scenes of violence, which set in right from the word GO. Trust me, this is not a show for the faint hearted or timid. This show pulls no punches with regards to drugs, sex or violence. Its is hardcore, in the classic use of the word.<br /><br />It is called OZ as that is the nickname given to the Oswald Maximum Security State Penitentary. It focuses mainly on Emerald City, an experimental section of the prison where all the cells have glass fronts and face inwards, so privacy is not high on the agenda. Em City is home to many..Aryans, Muslims, gangstas, Latinos, Christians, Italians, Irish and more....so scuffles, death stares, dodgy dealings and shady agreements are never far away.<br /><br />I would say the main appeal of the show is due to the fact that it goes where other shows wouldn't dare. Forget pretty pictures painted for mainstream audiences, forget charm, forget romance...OZ doesn't mess around. The first episode I ever saw struck me as so nasty it was surreal, I couldn't say I was ready for it, but as I watched more, I developed a taste for Oz, and got accustomed to the high levels of graphic violence. Not just violence, but injustice (crooked guards who'll be sold out for a nickel, inmates who'll kill on order and get away with it, well mannered, middle class inmates being turned into prison bitches due to their lack of street skills or prison experience) Watching Oz, you may become comfortable with what is uncomfortable viewing....thats if you can get in touch with your darker side. \n",
      "\n",
      "A wonderful little production. <br /><br />The filming technique is very unassuming- very old-time-BBC fashion and gives a comforting, and sometimes discomforting, sense of realism to the entire piece. <br /><br />The actors are extremely well chosen- Michael Sheen not only \"has got all the polari\" but he has all the voices down pat too! You can truly see the seamless editing guided by the references to Williams' diary entries, not only is it well worth the watching but it is a terrificly written and performed piece. A masterful production about one of the great master's of comedy and his life. <br /><br />The realism really comes home with the little things: the fantasy of the guard which, rather than use the traditional 'dream' techniques remains solid then disappears. It plays on our knowledge and our senses, particularly with the scenes concerning Orton and Halliwell and the sets (particularly of their flat with Halliwell's murals decorating every surface) are terribly well done. \n",
      "\n",
      "I thought this was a wonderful way to spend time on a too hot summer weekend, sitting in the air conditioned theater and watching a light-hearted comedy. The plot is simplistic, but the dialogue is witty and the characters are likable (even the well bread suspected serial killer). While some may be disappointed when they realize this is not Match Point 2: Risk Addiction, I thought it was proof that Woody Allen is still fully in control of the style many of us have grown to love.<br /><br />This was the most I'd laughed at one of Woody's comedies in years (dare I say a decade?). While I've never been impressed with Scarlet Johanson, in this she managed to tone down her \"sexy\" image and jumped right into a average, but spirited young woman.<br /><br />This may not be the crown jewel of his career, but it was wittier than \"Devil Wears Prada\" and more interesting than \"Superman\" a great comedy to go see with friends. \n",
      "\n",
      "Basically there's a family where a little boy (Jake) thinks there's a zombie in his closet & his parents are fighting all the time.<br /><br />This movie is slower than a soap opera... and suddenly, Jake decides to become Rambo and kill the zombie.<br /><br />OK, first of all when you're going to make a film you must Decide if its a thriller or a drama! As a drama the movie is watchable. Parents are divorcing & arguing like in real life. And then we have Jake with his closet which totally ruins all the film! I expected to see a BOOGEYMAN similar movie, and instead i watched a drama with some meaningless thriller spots.<br /><br />3 out of 10 just for the well playing parents & descent dialogs. As for the shots with Jake: just ignore them. \n",
      "\n",
      "Petter Mattei's \"Love in the Time of Money\" is a visually stunning film to watch. Mr. Mattei offers us a vivid portrait about human relations. This is a movie that seems to be telling us what money, power and success do to people in the different situations we encounter. <br /><br />This being a variation on the Arthur Schnitzler's play about the same theme, the director transfers the action to the present time New York where all these different characters meet and connect. Each one is connected in one way, or another to the next person, but no one seems to know the previous point of contact. Stylishly, the film has a sophisticated luxurious look. We are taken to see how these people live and the world they live in their own habitat.<br /><br />The only thing one gets out of all these souls in the picture is the different stages of loneliness each one inhabits. A big city is not exactly the best place in which human relations find sincere fulfillment, as one discerns is the case with most of the people we encounter.<br /><br />The acting is good under Mr. Mattei's direction. Steve Buscemi, Rosario Dawson, Carol Kane, Michael Imperioli, Adrian Grenier, and the rest of the talented cast, make these characters come alive.<br /><br />We wish Mr. Mattei good luck and await anxiously for his next work. \n",
      "\n"
     ]
    }
   ],
   "source": [
    "# let's have a look at top 5 of the reviews\n",
    "\n",
    "print(\"[INFO] Let's have a look at first 5 reviews:\\n\")\n",
    "for i in range(5):\n",
    "    print(df['review'][i],\"\\n\")"
   ]
  },
  {
   "cell_type": "code",
   "execution_count": 5,
   "metadata": {},
   "outputs": [
    {
     "data": {
      "text/plain": [
       "False"
      ]
     },
     "execution_count": 5,
     "metadata": {},
     "output_type": "execute_result"
    }
   ],
   "source": [
    "# let's check if some values are missing\n",
    "df.isnull().values.any()"
   ]
  },
  {
   "cell_type": "code",
   "execution_count": 6,
   "metadata": {},
   "outputs": [
    {
     "data": {
      "text/html": [
       "<div>\n",
       "<style scoped>\n",
       "    .dataframe tbody tr th:only-of-type {\n",
       "        vertical-align: middle;\n",
       "    }\n",
       "\n",
       "    .dataframe tbody tr th {\n",
       "        vertical-align: top;\n",
       "    }\n",
       "\n",
       "    .dataframe thead th {\n",
       "        text-align: right;\n",
       "    }\n",
       "</style>\n",
       "<table border=\"1\" class=\"dataframe\">\n",
       "  <thead>\n",
       "    <tr style=\"text-align: right;\">\n",
       "      <th></th>\n",
       "      <th>review</th>\n",
       "      <th>sentiment</th>\n",
       "    </tr>\n",
       "  </thead>\n",
       "  <tbody>\n",
       "    <tr>\n",
       "      <td>0</td>\n",
       "      <td>One of the other reviewers has mentioned that ...</td>\n",
       "      <td>1</td>\n",
       "    </tr>\n",
       "    <tr>\n",
       "      <td>1</td>\n",
       "      <td>A wonderful little production. &lt;br /&gt;&lt;br /&gt;The...</td>\n",
       "      <td>1</td>\n",
       "    </tr>\n",
       "    <tr>\n",
       "      <td>2</td>\n",
       "      <td>I thought this was a wonderful way to spend ti...</td>\n",
       "      <td>1</td>\n",
       "    </tr>\n",
       "    <tr>\n",
       "      <td>3</td>\n",
       "      <td>Basically there's a family where a little boy ...</td>\n",
       "      <td>0</td>\n",
       "    </tr>\n",
       "    <tr>\n",
       "      <td>4</td>\n",
       "      <td>Petter Mattei's \"Love in the Time of Money\" is...</td>\n",
       "      <td>1</td>\n",
       "    </tr>\n",
       "    <tr>\n",
       "      <td>5</td>\n",
       "      <td>Probably my all-time favorite movie, a story o...</td>\n",
       "      <td>1</td>\n",
       "    </tr>\n",
       "    <tr>\n",
       "      <td>6</td>\n",
       "      <td>I sure would like to see a resurrection of a u...</td>\n",
       "      <td>1</td>\n",
       "    </tr>\n",
       "    <tr>\n",
       "      <td>7</td>\n",
       "      <td>This show was an amazing, fresh &amp; innovative i...</td>\n",
       "      <td>0</td>\n",
       "    </tr>\n",
       "    <tr>\n",
       "      <td>8</td>\n",
       "      <td>Encouraged by the positive comments about this...</td>\n",
       "      <td>0</td>\n",
       "    </tr>\n",
       "    <tr>\n",
       "      <td>9</td>\n",
       "      <td>If you like original gut wrenching laughter yo...</td>\n",
       "      <td>1</td>\n",
       "    </tr>\n",
       "  </tbody>\n",
       "</table>\n",
       "</div>"
      ],
      "text/plain": [
       "                                              review  sentiment\n",
       "0  One of the other reviewers has mentioned that ...          1\n",
       "1  A wonderful little production. <br /><br />The...          1\n",
       "2  I thought this was a wonderful way to spend ti...          1\n",
       "3  Basically there's a family where a little boy ...          0\n",
       "4  Petter Mattei's \"Love in the Time of Money\" is...          1\n",
       "5  Probably my all-time favorite movie, a story o...          1\n",
       "6  I sure would like to see a resurrection of a u...          1\n",
       "7  This show was an amazing, fresh & innovative i...          0\n",
       "8  Encouraged by the positive comments about this...          0\n",
       "9  If you like original gut wrenching laughter yo...          1"
      ]
     },
     "execution_count": 6,
     "metadata": {},
     "output_type": "execute_result"
    }
   ],
   "source": [
    "# let's begin pre-processing the dataset\n",
    "# we will firstly replace the setiment column with number 1 or 0\n",
    "# initializing a new dataframe and replacing sentiments\n",
    "\n",
    "dfX = df\n",
    "dfX.replace('positive', 1, inplace=True)\n",
    "dfX.replace('negative', 0, inplace=True)\n",
    "\n",
    "# let's have a look\n",
    "dfX.head(10)"
   ]
  },
  {
   "cell_type": "code",
   "execution_count": 7,
   "metadata": {},
   "outputs": [
    {
     "data": {
      "image/png": "[encoded data removed]",
      "text/plain": [
       "<Figure size 432x288 with 1 Axes>"
      ]
     },
     "metadata": {
      "needs_background": "light"
     },
     "output_type": "display_data"
    }
   ],
   "source": [
    "# let's try to plot some graphs\n",
    "\n",
    "plt.figure()\n",
    "\n",
    "plt.hist(dfX['sentiment'])\n",
    "plt.title(\"Movie Review\")\n",
    "plt.xlabel(\"Sentiment\")\n",
    "plt.ylabel(\"Number of Votes\")\n",
    "\n",
    "plt.show()"
   ]
  },
  {
   "cell_type": "code",
   "execution_count": 8,
   "metadata": {},
   "outputs": [],
   "source": [
    "# defining parameters\n",
    "\n",
    "numWords = 10000\n",
    "sequenceLength = 300\n",
    "testSize = 0.4\n",
    "oovToken = None"
   ]
  },
  {
   "cell_type": "code",
   "execution_count": 9,
   "metadata": {},
   "outputs": [
    {
     "name": "stderr",
     "output_type": "stream",
     "text": [
      "100%|█████████████████████████████████████████████████████████████████████████| 50000/50000 [00:00<00:00, 57666.25it/s]\n"
     ]
    },
    {
     "name": "stdout",
     "output_type": "stream",
     "text": [
      "\n",
      "[INFO] Reviews # : 50000\n",
      "[INFO] Sentiments # : 50000\n"
     ]
    }
   ],
   "source": [
    "# let's begin pre-processing and loading the dataset\n",
    "\n",
    "# Initializing empty lists for reviews and labels\n",
    "reviews = []\n",
    "labels = []\n",
    "\n",
    "# iterating through the entire dataset one-by-one\n",
    "for index in tqdm(dfX.index):\n",
    "    \n",
    "    # grabbing reviews and labels\n",
    "    review = dfX.loc[index, 'review'].strip()\n",
    "    label = dfX.loc[index, 'sentiment']\n",
    "    \n",
    "    # appending these value to respective lists\n",
    "    reviews.append(review)\n",
    "    labels.append(label)\n",
    "\n",
    "# let's print the length for validation\n",
    "print(\"\\n[INFO] Reviews # : {}\\n[INFO] Sentiments # : {}\".format(len(reviews), len(labels)))"
   ]
  },
  {
   "cell_type": "code",
   "execution_count": 10,
   "metadata": {},
   "outputs": [
    {
     "name": "stdout",
     "output_type": "stream",
     "text": [
      "[INFO] trainX: 30000 :: trainY: 30000\n",
      "[INFO] testX: 10000 :: testY: 10000\n",
      "[INFO] valX: 10000 :: valY: 10000\n"
     ]
    }
   ],
   "source": [
    "# now let's tokenize the reviews, delete uncommon words such as names, etc.\n",
    "\n",
    "# initializing the Tokenizer\n",
    "tokenizer = Tokenizer(num_words=numWords, oov_token=oovToken)\n",
    "tokenizer.fit_on_texts(reviews)\n",
    "\n",
    "# creating a sequence\n",
    "X = tokenizer.texts_to_sequences(reviews)\n",
    "\n",
    "# converting it to numpy arrays\n",
    "X, y = np.array(X), np.array(labels)\n",
    "\n",
    "# applying padding to X to make sure the length remains consistent\n",
    "X = pad_sequences(X, maxlen=sequenceLength)\n",
    "# converting labels to one-hot-encodings\n",
    "y = to_categorical(y)\n",
    "\n",
    "# splitting the dataset for training and testing\n",
    "trainX, dataX, trainY, dataY = train_test_split(X, y, test_size=testSize, random_state=2)\n",
    "testX, valX, testY, valY = train_test_split(dataX, dataY, test_size=0.5, random_state=2)\n",
    "\n",
    "print(\"[INFO] trainX: {} :: trainY: {}\\n[INFO] testX: {} :: testY: {}\\n[INFO] valX: {} :: valY: {}\".format(len(trainX), len(trainY), len(testX), len(testY), len(valX), len(valY)))"
   ]
  },
  {
   "cell_type": "code",
   "execution_count": 11,
   "metadata": {},
   "outputs": [
    {
     "name": "stdout",
     "output_type": "stream",
     "text": [
      "<keras_preprocessing.text.Tokenizer object at 0x00000169AA3CCA08>\n"
     ]
    }
   ],
   "source": [
    "# let's create a dictionary and store our data as follows\n",
    "data = {}\n",
    "\n",
    "# appending values\n",
    "data[\"trainX\"] = trainX\n",
    "data[\"testX\"] = testX\n",
    "data[\"valX\"] = valX\n",
    "data[\"trainY\"] = trainY\n",
    "data[\"testY\"] = testY\n",
    "data[\"valY\"] = valY\n",
    "data[\"tokenizer\"] = tokenizer\n",
    "data[\"int2label\"] = {0:\"negative\", 1:\"positive\"}\n",
    "data[\"label2int\"] = {\"negative\":0, \"positive\":1}\n",
    "\n",
    "print(data[\"tokenizer\"])"
   ]
  },
  {
   "cell_type": "code",
   "execution_count": 12,
   "metadata": {},
   "outputs": [],
   "source": [
    "# defining some parameters for model creation\n",
    "\n",
    "embeddingSize = 300\n",
    "units = 32\n",
    "dropout = 0.4\n",
    "loss = \"categorical_crossentropy\"\n",
    "optimizer = \"adam\"\n",
    "batchSize = 300\n",
    "epochs = 30\n",
    "wordIndex = data[\"tokenizer\"].word_index\n",
    "modelName = \"classifierModel.h5\""
   ]
  },
  {
   "cell_type": "code",
   "execution_count": 13,
   "metadata": {},
   "outputs": [
    {
     "name": "stderr",
     "output_type": "stream",
     "text": [
      "Reading GloVe: 400000it [00:17, 22793.26it/s]\n"
     ]
    },
    {
     "name": "stdout",
     "output_type": "stream",
     "text": [
      "\n",
      " [[ 0.          0.          0.         ...  0.          0.\n",
      "   0.        ]\n",
      " [ 0.04656     0.21318001 -0.0074364  ...  0.0090611  -0.20988999\n",
      "   0.053913  ]\n",
      " [ 0.038466   -0.039792    0.082747   ... -0.33427     0.011807\n",
      "   0.059703  ]\n",
      " ...\n",
      " [ 0.0566     -0.29016     0.47273001 ... -0.1166      0.21393\n",
      "  -0.61741   ]\n",
      " [ 0.          0.          0.         ...  0.          0.\n",
      "   0.        ]\n",
      " [-0.14168     0.35080999  0.44791001 ...  0.14529    -0.013969\n",
      "   0.40158999]]\n"
     ]
    }
   ],
   "source": [
    "# loading the pre-trained word vectors i.e. GloVe\n",
    "\n",
    "embeddingMatrix = np.zeros((len(wordIndex) + 1, embeddingSize))\n",
    "# opening the gloveFile\n",
    "with open(f\"data/glove.6B.{embeddingSize}d.txt\", encoding=\"utf8\") as f:\n",
    "    \n",
    "    for line in tqdm(f, \"Reading GloVe\"):\n",
    "        values = line.split()\n",
    "        \n",
    "        # get the word as the first word in the line\n",
    "        word = values[0]\n",
    "        \n",
    "        # see if the word is found in the wordIndex\n",
    "        if word in wordIndex:\n",
    "            # grab it's index\n",
    "            idx = wordIndex[word]\n",
    "            \n",
    "            # get the vectors as the remaining values in the line\n",
    "            embeddingMatrix[idx] = np.array(values[1:], dtype=\"float32\")\n",
    "\n",
    "# let's have a look at embedding matrix\n",
    "print(\"\\n\", embeddingMatrix)"
   ]
  },
  {
   "cell_type": "code",
   "execution_count": 14,
   "metadata": {},
   "outputs": [],
   "source": [
    "# let's construct the model\n",
    "\n",
    "def Classifier(wordIndex, units, embeddingSize, sequenceLength, dropout, loss, optimizer, outputLength):\n",
    "    \n",
    "    # initializing the network\n",
    "    model = Sequential()\n",
    "\n",
    "    # adding layers to our model\n",
    "\n",
    "    # first embedding layer\n",
    "    model.add(Embedding(len(wordIndex) + 1, embeddingSize, weights=[embeddingMatrix],\n",
    "                        trainable=False, input_length=sequenceLength))\n",
    "\n",
    "    # adding LSTM (Hidden) layers to our model\n",
    "\n",
    "    # first hidden layer\n",
    "    model.add(LSTM(2*2*units, return_sequences=True))\n",
    "    model.add(Dropout(rate=dropout))\n",
    "\n",
    "    # second hidden layer\n",
    "    model.add(LSTM(2*units, return_sequences=True))\n",
    "    model.add(Dropout(rate=dropout))\n",
    "\n",
    "    # third hidden layer\n",
    "    model.add(LSTM(units, return_sequences=False))\n",
    "    model.add(Dropout(rate=dropout))\n",
    "\n",
    "    # softmax classifier\n",
    "    model.add(Dense(outputLength, activation=\"softmax\"))\n",
    "    \n",
    "    # let's return the model\n",
    "    return model"
   ]
  },
  {
   "cell_type": "code",
   "execution_count": 15,
   "metadata": {},
   "outputs": [
    {
     "name": "stdout",
     "output_type": "stream",
     "text": [
      "[INFO] Initializing the Model...\n",
      "[INFO] Compiling the Model...\n"
     ]
    }
   ],
   "source": [
    "# Initializing the model\n",
    "\n",
    "print(\"[INFO] Initializing the Model...\")\n",
    "model = Classifier(wordIndex, units, embeddingSize, \n",
    "                   sequenceLength, dropout, loss, optimizer, outputLength=2)\n",
    "\n",
    "# compiling the model\n",
    "print(\"[INFO] Compiling the Model...\")\n",
    "model.compile(optimizer=optimizer, loss=loss, metrics=[\"accuracy\"])"
   ]
  },
  {
   "cell_type": "code",
   "execution_count": 16,
   "metadata": {},
   "outputs": [
    {
     "name": "stdout",
     "output_type": "stream",
     "text": [
      "Model: \"sequential_1\"\n",
      "_________________________________________________________________\n",
      "Layer (type)                 Output Shape              Param #   \n",
      "=================================================================\n",
      "embedding_1 (Embedding)      (None, 300, 300)          37267200  \n",
      "_________________________________________________________________\n",
      "lstm_1 (LSTM)                (None, 300, 128)          219648    \n",
      "_________________________________________________________________\n",
      "dropout_1 (Dropout)          (None, 300, 128)          0         \n",
      "_________________________________________________________________\n",
      "lstm_2 (LSTM)                (None, 300, 64)           49408     \n",
      "_________________________________________________________________\n",
      "dropout_2 (Dropout)          (None, 300, 64)           0         \n",
      "_________________________________________________________________\n",
      "lstm_3 (LSTM)                (None, 32)                12416     \n",
      "_________________________________________________________________\n",
      "dropout_3 (Dropout)          (None, 32)                0         \n",
      "_________________________________________________________________\n",
      "dense_1 (Dense)              (None, 2)                 66        \n",
      "=================================================================\n",
      "Total params: 37,548,738\n",
      "Trainable params: 281,538\n",
      "Non-trainable params: 37,267,200\n",
      "_________________________________________________________________\n"
     ]
    }
   ],
   "source": [
    "# let's look at model summary\n",
    "model.summary()"
   ]
  },
  {
   "cell_type": "code",
   "execution_count": 17,
   "metadata": {},
   "outputs": [],
   "source": [
    "# let's define EarlyStopping\n",
    "ES = EarlyStopping(monitor=\"val_loss\", patience=7, mode=\"min\", restore_best_weights=True)"
   ]
  },
  {
   "cell_type": "code",
   "execution_count": 18,
   "metadata": {},
   "outputs": [
    {
     "name": "stdout",
     "output_type": "stream",
     "text": [
      "Train on 30000 samples, validate on 10000 samples\n",
      "Epoch 1/30\n",
      "30000/30000 [==============================] - ETA: 4:43 - loss: 0.7024 - accuracy: 0.48 - ETA: 3:02 - loss: 0.7003 - accuracy: 0.49 - ETA: 2:26 - loss: 0.6955 - accuracy: 0.51 - ETA: 2:08 - loss: 0.6875 - accuracy: 0.54 - ETA: 1:57 - loss: 0.6862 - accuracy: 0.53 - ETA: 1:49 - loss: 0.6864 - accuracy: 0.54 - ETA: 1:42 - loss: 0.6840 - accuracy: 0.55 - ETA: 1:37 - loss: 0.6812 - accuracy: 0.55 - ETA: 1:33 - loss: 0.6788 - accuracy: 0.56 - ETA: 1:30 - loss: 0.6779 - accuracy: 0.56 - ETA: 1:27 - loss: 0.6748 - accuracy: 0.57 - ETA: 1:25 - loss: 0.6727 - accuracy: 0.57 - ETA: 1:22 - loss: 0.6685 - accuracy: 0.58 - ETA: 1:20 - loss: 0.6651 - accuracy: 0.58 - ETA: 1:18 - loss: 0.6606 - accuracy: 0.59 - ETA: 1:16 - loss: 0.6570 - accuracy: 0.60 - ETA: 1:15 - loss: 0.6558 - accuracy: 0.60 - ETA: 1:13 - loss: 0.6529 - accuracy: 0.60 - ETA: 1:12 - loss: 0.6477 - accuracy: 0.61 - ETA: 1:10 - loss: 0.6427 - accuracy: 0.62 - ETA: 1:09 - loss: 0.6415 - accuracy: 0.62 - ETA: 1:08 - loss: 0.6370 - accuracy: 0.62 - ETA: 1:06 - loss: 0.6307 - accuracy: 0.63 - ETA: 1:05 - loss: 0.6245 - accuracy: 0.64 - ETA: 1:04 - loss: 0.6238 - accuracy: 0.64 - ETA: 1:03 - loss: 0.6190 - accuracy: 0.64 - ETA: 1:02 - loss: 0.6159 - accuracy: 0.65 - ETA: 1:01 - loss: 0.6123 - accuracy: 0.65 - ETA: 1:00 - loss: 0.6093 - accuracy: 0.65 - ETA: 59s - loss: 0.6087 - accuracy: 0.6601 - ETA: 58s - loss: 0.6041 - accuracy: 0.664 - ETA: 57s - loss: 0.6026 - accuracy: 0.666 - ETA: 56s - loss: 0.5991 - accuracy: 0.669 - ETA: 55s - loss: 0.5974 - accuracy: 0.671 - ETA: 54s - loss: 0.5945 - accuracy: 0.673 - ETA: 53s - loss: 0.5925 - accuracy: 0.675 - ETA: 52s - loss: 0.5919 - accuracy: 0.676 - ETA: 51s - loss: 0.5891 - accuracy: 0.679 - ETA: 50s - loss: 0.5885 - accuracy: 0.680 - ETA: 49s - loss: 0.5857 - accuracy: 0.683 - ETA: 48s - loss: 0.5838 - accuracy: 0.685 - ETA: 47s - loss: 0.5832 - accuracy: 0.686 - ETA: 47s - loss: 0.5807 - accuracy: 0.688 - ETA: 46s - loss: 0.5779 - accuracy: 0.691 - ETA: 45s - loss: 0.5785 - accuracy: 0.691 - ETA: 44s - loss: 0.5766 - accuracy: 0.693 - ETA: 43s - loss: 0.5752 - accuracy: 0.694 - ETA: 42s - loss: 0.5743 - accuracy: 0.695 - ETA: 41s - loss: 0.5720 - accuracy: 0.697 - ETA: 40s - loss: 0.5702 - accuracy: 0.699 - ETA: 39s - loss: 0.5683 - accuracy: 0.701 - ETA: 39s - loss: 0.5668 - accuracy: 0.702 - ETA: 38s - loss: 0.5654 - accuracy: 0.704 - ETA: 37s - loss: 0.5627 - accuracy: 0.706 - ETA: 36s - loss: 0.5609 - accuracy: 0.708 - ETA: 35s - loss: 0.5590 - accuracy: 0.709 - ETA: 34s - loss: 0.5571 - accuracy: 0.711 - ETA: 33s - loss: 0.5549 - accuracy: 0.713 - ETA: 33s - loss: 0.5542 - accuracy: 0.714 - ETA: 32s - loss: 0.5537 - accuracy: 0.715 - ETA: 31s - loss: 0.5531 - accuracy: 0.716 - ETA: 30s - loss: 0.5508 - accuracy: 0.717 - ETA: 29s - loss: 0.5491 - accuracy: 0.719 - ETA: 28s - loss: 0.5482 - accuracy: 0.720 - ETA: 28s - loss: 0.5472 - accuracy: 0.720 - ETA: 27s - loss: 0.5464 - accuracy: 0.721 - ETA: 26s - loss: 0.5456 - accuracy: 0.722 - ETA: 25s - loss: 0.5442 - accuracy: 0.723 - ETA: 24s - loss: 0.5435 - accuracy: 0.723 - ETA: 24s - loss: 0.5417 - accuracy: 0.725 - ETA: 23s - loss: 0.5415 - accuracy: 0.725 - ETA: 22s - loss: 0.5402 - accuracy: 0.726 - ETA: 21s - loss: 0.5384 - accuracy: 0.728 - ETA: 20s - loss: 0.5371 - accuracy: 0.729 - ETA: 19s - loss: 0.5355 - accuracy: 0.730 - ETA: 19s - loss: 0.5348 - accuracy: 0.731 - ETA: 18s - loss: 0.5334 - accuracy: 0.732 - ETA: 17s - loss: 0.5325 - accuracy: 0.733 - ETA: 16s - loss: 0.5311 - accuracy: 0.735 - ETA: 15s - loss: 0.5297 - accuracy: 0.736 - ETA: 15s - loss: 0.5284 - accuracy: 0.737 - ETA: 14s - loss: 0.5270 - accuracy: 0.738 - ETA: 13s - loss: 0.5257 - accuracy: 0.739 - ETA: 12s - loss: 0.5243 - accuracy: 0.740 - ETA: 11s - loss: 0.5231 - accuracy: 0.741 - ETA: 11s - loss: 0.5219 - accuracy: 0.742 - ETA: 10s - loss: 0.5208 - accuracy: 0.743 - ETA: 9s - loss: 0.5200 - accuracy: 0.743 - ETA: 8s - loss: 0.5187 - accuracy: 0.74 - ETA: 7s - loss: 0.5185 - accuracy: 0.74 - ETA: 7s - loss: 0.5175 - accuracy: 0.74 - ETA: 6s - loss: 0.5169 - accuracy: 0.74 - ETA: 5s - loss: 0.5158 - accuracy: 0.74 - ETA: 4s - loss: 0.5144 - accuracy: 0.74 - ETA: 3s - loss: 0.5139 - accuracy: 0.74 - ETA: 3s - loss: 0.5132 - accuracy: 0.74 - ETA: 2s - loss: 0.5131 - accuracy: 0.74 - ETA: 1s - loss: 0.5120 - accuracy: 0.75 - ETA: 0s - loss: 0.5115 - accuracy: 0.75 - 85s 3ms/step - loss: 0.5105 - accuracy: 0.7513 - val_loss: 0.4023 - val_accuracy: 0.8301\n",
      "Epoch 2/30\n",
      "30000/30000 [==============================] - ETA: 1:26 - loss: 0.4370 - accuracy: 0.78 - ETA: 1:23 - loss: 0.4164 - accuracy: 0.80 - ETA: 1:22 - loss: 0.4271 - accuracy: 0.79 - ETA: 1:21 - loss: 0.4266 - accuracy: 0.80 - ETA: 1:20 - loss: 0.4324 - accuracy: 0.80 - ETA: 1:19 - loss: 0.4239 - accuracy: 0.81 - ETA: 1:17 - loss: 0.4294 - accuracy: 0.81 - ETA: 1:15 - loss: 0.4259 - accuracy: 0.81 - ETA: 1:14 - loss: 0.4293 - accuracy: 0.81 - ETA: 1:13 - loss: 0.4290 - accuracy: 0.80 - ETA: 1:12 - loss: 0.4326 - accuracy: 0.80 - ETA: 1:11 - loss: 0.4249 - accuracy: 0.81 - ETA: 1:10 - loss: 0.4224 - accuracy: 0.81 - ETA: 1:09 - loss: 0.4223 - accuracy: 0.81 - ETA: 1:08 - loss: 0.4200 - accuracy: 0.82 - ETA: 1:07 - loss: 0.4186 - accuracy: 0.82 - ETA: 1:06 - loss: 0.4154 - accuracy: 0.82 - ETA: 1:05 - loss: 0.4188 - accuracy: 0.81 - ETA: 1:05 - loss: 0.4191 - accuracy: 0.82 - ETA: 1:03 - loss: 0.4176 - accuracy: 0.82 - ETA: 1:03 - loss: 0.4187 - accuracy: 0.81 - ETA: 1:02 - loss: 0.4215 - accuracy: 0.81 - ETA: 1:01 - loss: 0.4198 - accuracy: 0.81 - ETA: 1:00 - loss: 0.4198 - accuracy: 0.81 - ETA: 59s - loss: 0.4176 - accuracy: 0.8192 - ETA: 58s - loss: 0.4160 - accuracy: 0.820 - ETA: 57s - loss: 0.4191 - accuracy: 0.819 - ETA: 56s - loss: 0.4222 - accuracy: 0.818 - ETA: 56s - loss: 0.4229 - accuracy: 0.818 - ETA: 55s - loss: 0.4231 - accuracy: 0.818 - ETA: 54s - loss: 0.4238 - accuracy: 0.817 - ETA: 53s - loss: 0.4243 - accuracy: 0.817 - ETA: 52s - loss: 0.4252 - accuracy: 0.815 - ETA: 52s - loss: 0.4253 - accuracy: 0.815 - ETA: 51s - loss: 0.4255 - accuracy: 0.815 - ETA: 50s - loss: 0.4253 - accuracy: 0.816 - ETA: 49s - loss: 0.4247 - accuracy: 0.816 - ETA: 49s - loss: 0.4228 - accuracy: 0.818 - ETA: 48s - loss: 0.4225 - accuracy: 0.818 - ETA: 47s - loss: 0.4238 - accuracy: 0.817 - ETA: 46s - loss: 0.4233 - accuracy: 0.817 - ETA: 45s - loss: 0.4222 - accuracy: 0.818 - ETA: 45s - loss: 0.4227 - accuracy: 0.817 - ETA: 44s - loss: 0.4232 - accuracy: 0.817 - ETA: 43s - loss: 0.4226 - accuracy: 0.817 - ETA: 42s - loss: 0.4234 - accuracy: 0.817 - ETA: 41s - loss: 0.4222 - accuracy: 0.818 - ETA: 41s - loss: 0.4211 - accuracy: 0.818 - ETA: 40s - loss: 0.4209 - accuracy: 0.818 - ETA: 39s - loss: 0.4187 - accuracy: 0.820 - ETA: 38s - loss: 0.4185 - accuracy: 0.820 - ETA: 38s - loss: 0.4186 - accuracy: 0.820 - ETA: 37s - loss: 0.4177 - accuracy: 0.820 - ETA: 36s - loss: 0.4175 - accuracy: 0.820 - ETA: 35s - loss: 0.4184 - accuracy: 0.820 - ETA: 34s - loss: 0.4182 - accuracy: 0.819 - ETA: 34s - loss: 0.4187 - accuracy: 0.819 - ETA: 33s - loss: 0.4190 - accuracy: 0.818 - ETA: 32s - loss: 0.4183 - accuracy: 0.819 - ETA: 31s - loss: 0.4190 - accuracy: 0.819 - ETA: 30s - loss: 0.4192 - accuracy: 0.819 - ETA: 30s - loss: 0.4183 - accuracy: 0.819 - ETA: 29s - loss: 0.4185 - accuracy: 0.819 - ETA: 28s - loss: 0.4190 - accuracy: 0.819 - ETA: 27s - loss: 0.4191 - accuracy: 0.819 - ETA: 26s - loss: 0.4190 - accuracy: 0.819 - ETA: 26s - loss: 0.4190 - accuracy: 0.820 - ETA: 25s - loss: 0.4182 - accuracy: 0.820 - ETA: 24s - loss: 0.4181 - accuracy: 0.820 - ETA: 23s - loss: 0.4179 - accuracy: 0.820 - ETA: 22s - loss: 0.4175 - accuracy: 0.820 - ETA: 22s - loss: 0.4172 - accuracy: 0.820 - ETA: 21s - loss: 0.4167 - accuracy: 0.820 - ETA: 20s - loss: 0.4157 - accuracy: 0.821 - ETA: 19s - loss: 0.4155 - accuracy: 0.821 - ETA: 18s - loss: 0.4146 - accuracy: 0.821 - ETA: 18s - loss: 0.4140 - accuracy: 0.822 - ETA: 17s - loss: 0.4137 - accuracy: 0.822 - ETA: 16s - loss: 0.4129 - accuracy: 0.823 - ETA: 15s - loss: 0.4127 - accuracy: 0.823 - ETA: 15s - loss: 0.4123 - accuracy: 0.822 - ETA: 14s - loss: 0.4124 - accuracy: 0.822 - ETA: 13s - loss: 0.4129 - accuracy: 0.822 - ETA: 12s - loss: 0.4131 - accuracy: 0.822 - ETA: 11s - loss: 0.4130 - accuracy: 0.822 - ETA: 11s - loss: 0.4128 - accuracy: 0.822 - ETA: 10s - loss: 0.4128 - accuracy: 0.822 - ETA: 9s - loss: 0.4127 - accuracy: 0.822 - ETA: 8s - loss: 0.4115 - accuracy: 0.82 - ETA: 7s - loss: 0.4105 - accuracy: 0.82 - ETA: 7s - loss: 0.4106 - accuracy: 0.82 - ETA: 6s - loss: 0.4097 - accuracy: 0.82 - ETA: 5s - loss: 0.4090 - accuracy: 0.82 - ETA: 4s - loss: 0.4087 - accuracy: 0.82 - ETA: 3s - loss: 0.4082 - accuracy: 0.82 - ETA: 3s - loss: 0.4076 - accuracy: 0.82 - ETA: 2s - loss: 0.4070 - accuracy: 0.82 - ETA: 1s - loss: 0.4064 - accuracy: 0.82 - ETA: 0s - loss: 0.4059 - accuracy: 0.82 - 85s 3ms/step - loss: 0.4056 - accuracy: 0.8262 - val_loss: 0.3618 - val_accuracy: 0.8455\n",
      "Epoch 3/30\n",
      "30000/30000 [==============================] - ETA: 1:24 - loss: 0.3288 - accuracy: 0.85 - ETA: 1:19 - loss: 0.3489 - accuracy: 0.85 - ETA: 1:16 - loss: 0.3280 - accuracy: 0.87 - ETA: 1:15 - loss: 0.3402 - accuracy: 0.86 - ETA: 1:14 - loss: 0.3345 - accuracy: 0.86 - ETA: 1:14 - loss: 0.3294 - accuracy: 0.87 - ETA: 1:12 - loss: 0.3335 - accuracy: 0.86 - ETA: 1:12 - loss: 0.3369 - accuracy: 0.86 - ETA: 1:11 - loss: 0.3400 - accuracy: 0.86 - ETA: 1:10 - loss: 0.3414 - accuracy: 0.86 - ETA: 1:10 - loss: 0.3429 - accuracy: 0.86 - ETA: 1:10 - loss: 0.3419 - accuracy: 0.85 - ETA: 1:09 - loss: 0.3476 - accuracy: 0.85 - ETA: 1:08 - loss: 0.3458 - accuracy: 0.85 - ETA: 1:08 - loss: 0.3453 - accuracy: 0.85 - ETA: 1:07 - loss: 0.3440 - accuracy: 0.85 - ETA: 1:06 - loss: 0.3485 - accuracy: 0.85 - ETA: 1:05 - loss: 0.3465 - accuracy: 0.85 - ETA: 1:04 - loss: 0.3436 - accuracy: 0.85 - ETA: 1:03 - loss: 0.3425 - accuracy: 0.85 - ETA: 1:02 - loss: 0.3432 - accuracy: 0.85 - ETA: 1:02 - loss: 0.3450 - accuracy: 0.85 - ETA: 1:01 - loss: 0.3427 - accuracy: 0.85 - ETA: 1:00 - loss: 0.3461 - accuracy: 0.85 - ETA: 59s - loss: 0.3457 - accuracy: 0.8531 - ETA: 58s - loss: 0.3470 - accuracy: 0.851 - ETA: 58s - loss: 0.3454 - accuracy: 0.853 - ETA: 57s - loss: 0.3461 - accuracy: 0.853 - ETA: 56s - loss: 0.3433 - accuracy: 0.854 - ETA: 55s - loss: 0.3478 - accuracy: 0.853 - ETA: 55s - loss: 0.3476 - accuracy: 0.852 - ETA: 54s - loss: 0.3502 - accuracy: 0.851 - ETA: 53s - loss: 0.3504 - accuracy: 0.851 - ETA: 53s - loss: 0.3515 - accuracy: 0.850 - ETA: 52s - loss: 0.3544 - accuracy: 0.848 - ETA: 51s - loss: 0.3571 - accuracy: 0.846 - ETA: 50s - loss: 0.3564 - accuracy: 0.846 - ETA: 49s - loss: 0.3593 - accuracy: 0.845 - ETA: 48s - loss: 0.3607 - accuracy: 0.844 - ETA: 48s - loss: 0.3610 - accuracy: 0.844 - ETA: 47s - loss: 0.3619 - accuracy: 0.844 - ETA: 46s - loss: 0.3647 - accuracy: 0.842 - ETA: 45s - loss: 0.3669 - accuracy: 0.841 - ETA: 44s - loss: 0.3667 - accuracy: 0.841 - ETA: 44s - loss: 0.3675 - accuracy: 0.840 - ETA: 43s - loss: 0.3692 - accuracy: 0.840 - ETA: 42s - loss: 0.3696 - accuracy: 0.840 - ETA: 41s - loss: 0.3699 - accuracy: 0.840 - ETA: 40s - loss: 0.3702 - accuracy: 0.840 - ETA: 40s - loss: 0.3694 - accuracy: 0.840 - ETA: 39s - loss: 0.3695 - accuracy: 0.841 - ETA: 38s - loss: 0.3685 - accuracy: 0.841 - ETA: 37s - loss: 0.3678 - accuracy: 0.842 - ETA: 36s - loss: 0.3688 - accuracy: 0.841 - ETA: 36s - loss: 0.3676 - accuracy: 0.842 - ETA: 35s - loss: 0.3674 - accuracy: 0.842 - ETA: 34s - loss: 0.3686 - accuracy: 0.842 - ETA: 33s - loss: 0.3673 - accuracy: 0.842 - ETA: 32s - loss: 0.3672 - accuracy: 0.842 - ETA: 31s - loss: 0.3665 - accuracy: 0.843 - ETA: 31s - loss: 0.3652 - accuracy: 0.844 - ETA: 30s - loss: 0.3650 - accuracy: 0.844 - ETA: 29s - loss: 0.3646 - accuracy: 0.844 - ETA: 28s - loss: 0.3644 - accuracy: 0.844 - ETA: 27s - loss: 0.3641 - accuracy: 0.844 - ETA: 27s - loss: 0.3638 - accuracy: 0.844 - ETA: 26s - loss: 0.3636 - accuracy: 0.844 - ETA: 25s - loss: 0.3634 - accuracy: 0.844 - ETA: 24s - loss: 0.3638 - accuracy: 0.844 - ETA: 23s - loss: 0.3629 - accuracy: 0.844 - ETA: 23s - loss: 0.3634 - accuracy: 0.844 - ETA: 22s - loss: 0.3630 - accuracy: 0.844 - ETA: 21s - loss: 0.3630 - accuracy: 0.844 - ETA: 20s - loss: 0.3636 - accuracy: 0.844 - ETA: 19s - loss: 0.3638 - accuracy: 0.843 - ETA: 19s - loss: 0.3629 - accuracy: 0.844 - ETA: 18s - loss: 0.3625 - accuracy: 0.844 - ETA: 17s - loss: 0.3618 - accuracy: 0.844 - ETA: 16s - loss: 0.3618 - accuracy: 0.844 - ETA: 15s - loss: 0.3623 - accuracy: 0.844 - ETA: 15s - loss: 0.3620 - accuracy: 0.844 - ETA: 14s - loss: 0.3621 - accuracy: 0.844 - ETA: 13s - loss: 0.3617 - accuracy: 0.844 - ETA: 12s - loss: 0.3611 - accuracy: 0.845 - ETA: 11s - loss: 0.3606 - accuracy: 0.845 - ETA: 11s - loss: 0.3597 - accuracy: 0.846 - ETA: 10s - loss: 0.3596 - accuracy: 0.846 - ETA: 9s - loss: 0.3595 - accuracy: 0.846 - ETA: 8s - loss: 0.3589 - accuracy: 0.84 - ETA: 7s - loss: 0.3588 - accuracy: 0.84 - ETA: 7s - loss: 0.3588 - accuracy: 0.84 - ETA: 6s - loss: 0.3590 - accuracy: 0.84 - ETA: 5s - loss: 0.3584 - accuracy: 0.84 - ETA: 4s - loss: 0.3587 - accuracy: 0.84 - ETA: 3s - loss: 0.3593 - accuracy: 0.84 - ETA: 3s - loss: 0.3593 - accuracy: 0.84 - ETA: 2s - loss: 0.3587 - accuracy: 0.84 - ETA: 1s - loss: 0.3582 - accuracy: 0.84 - ETA: 0s - loss: 0.3581 - accuracy: 0.84 - 85s 3ms/step - loss: 0.3591 - accuracy: 0.8472 - val_loss: 0.3790 - val_accuracy: 0.8408\n",
      "Epoch 4/30\n",
      "30000/30000 [==============================] - ETA: 1:12 - loss: 0.3352 - accuracy: 0.86 - ETA: 1:16 - loss: 0.3642 - accuracy: 0.84 - ETA: 1:16 - loss: 0.3457 - accuracy: 0.84 - ETA: 1:16 - loss: 0.3404 - accuracy: 0.84 - ETA: 1:17 - loss: 0.3390 - accuracy: 0.85 - ETA: 1:16 - loss: 0.3347 - accuracy: 0.85 - ETA: 1:15 - loss: 0.3280 - accuracy: 0.85 - ETA: 1:14 - loss: 0.3231 - accuracy: 0.86 - ETA: 1:13 - loss: 0.3141 - accuracy: 0.86 - ETA: 1:13 - loss: 0.3151 - accuracy: 0.86 - ETA: 1:12 - loss: 0.3140 - accuracy: 0.86 - ETA: 1:11 - loss: 0.3114 - accuracy: 0.86 - ETA: 1:10 - loss: 0.3160 - accuracy: 0.86 - ETA: 1:09 - loss: 0.3124 - accuracy: 0.86 - ETA: 1:08 - loss: 0.3134 - accuracy: 0.86 - ETA: 1:07 - loss: 0.3212 - accuracy: 0.86 - ETA: 1:06 - loss: 0.3193 - accuracy: 0.86 - ETA: 1:05 - loss: 0.3269 - accuracy: 0.86 - ETA: 1:05 - loss: 0.3297 - accuracy: 0.86 - ETA: 1:04 - loss: 0.3338 - accuracy: 0.85 - ETA: 1:03 - loss: 0.3397 - accuracy: 0.85 - ETA: 1:02 - loss: 0.3438 - accuracy: 0.85 - ETA: 1:02 - loss: 0.3435 - accuracy: 0.85 - ETA: 1:01 - loss: 0.3431 - accuracy: 0.85 - ETA: 1:00 - loss: 0.3409 - accuracy: 0.85 - ETA: 59s - loss: 0.3381 - accuracy: 0.8563 - ETA: 58s - loss: 0.3371 - accuracy: 0.856 - ETA: 57s - loss: 0.3405 - accuracy: 0.856 - ETA: 56s - loss: 0.3443 - accuracy: 0.854 - ETA: 55s - loss: 0.3501 - accuracy: 0.851 - ETA: 55s - loss: 0.3537 - accuracy: 0.849 - ETA: 54s - loss: 0.3523 - accuracy: 0.849 - ETA: 53s - loss: 0.3531 - accuracy: 0.849 - ETA: 52s - loss: 0.3556 - accuracy: 0.848 - ETA: 51s - loss: 0.3625 - accuracy: 0.843 - ETA: 51s - loss: 0.3674 - accuracy: 0.839 - ETA: 50s - loss: 0.3699 - accuracy: 0.838 - ETA: 49s - loss: 0.3721 - accuracy: 0.837 - ETA: 48s - loss: 0.3739 - accuracy: 0.837 - ETA: 47s - loss: 0.3755 - accuracy: 0.837 - ETA: 47s - loss: 0.3777 - accuracy: 0.835 - ETA: 46s - loss: 0.3803 - accuracy: 0.833 - ETA: 45s - loss: 0.3821 - accuracy: 0.832 - ETA: 44s - loss: 0.3824 - accuracy: 0.833 - ETA: 44s - loss: 0.3833 - accuracy: 0.833 - ETA: 43s - loss: 0.3827 - accuracy: 0.833 - ETA: 42s - loss: 0.3845 - accuracy: 0.832 - ETA: 41s - loss: 0.3830 - accuracy: 0.832 - ETA: 40s - loss: 0.3828 - accuracy: 0.833 - ETA: 39s - loss: 0.3828 - accuracy: 0.833 - ETA: 39s - loss: 0.3835 - accuracy: 0.832 - ETA: 38s - loss: 0.3825 - accuracy: 0.833 - ETA: 37s - loss: 0.3833 - accuracy: 0.833 - ETA: 36s - loss: 0.3833 - accuracy: 0.834 - ETA: 35s - loss: 0.3833 - accuracy: 0.834 - ETA: 35s - loss: 0.3832 - accuracy: 0.834 - ETA: 34s - loss: 0.3850 - accuracy: 0.833 - ETA: 33s - loss: 0.3839 - accuracy: 0.834 - ETA: 32s - loss: 0.3836 - accuracy: 0.834 - ETA: 31s - loss: 0.3845 - accuracy: 0.834 - ETA: 31s - loss: 0.3842 - accuracy: 0.834 - ETA: 30s - loss: 0.3851 - accuracy: 0.834 - ETA: 29s - loss: 0.3838 - accuracy: 0.835 - ETA: 28s - loss: 0.3830 - accuracy: 0.836 - ETA: 27s - loss: 0.3829 - accuracy: 0.836 - ETA: 27s - loss: 0.3827 - accuracy: 0.836 - ETA: 26s - loss: 0.3820 - accuracy: 0.836 - ETA: 25s - loss: 0.3817 - accuracy: 0.836 - ETA: 24s - loss: 0.3813 - accuracy: 0.837 - ETA: 23s - loss: 0.3806 - accuracy: 0.837 - ETA: 23s - loss: 0.3796 - accuracy: 0.837 - ETA: 22s - loss: 0.3792 - accuracy: 0.838 - ETA: 21s - loss: 0.3787 - accuracy: 0.838 - ETA: 20s - loss: 0.3778 - accuracy: 0.838 - ETA: 19s - loss: 0.3770 - accuracy: 0.839 - ETA: 19s - loss: 0.3761 - accuracy: 0.839 - ETA: 18s - loss: 0.3755 - accuracy: 0.839 - ETA: 17s - loss: 0.3750 - accuracy: 0.840 - ETA: 16s - loss: 0.3742 - accuracy: 0.840 - ETA: 15s - loss: 0.3732 - accuracy: 0.841 - ETA: 15s - loss: 0.3722 - accuracy: 0.841 - ETA: 14s - loss: 0.3712 - accuracy: 0.842 - ETA: 13s - loss: 0.3712 - accuracy: 0.842 - ETA: 12s - loss: 0.3707 - accuracy: 0.842 - ETA: 11s - loss: 0.3705 - accuracy: 0.842 - ETA: 11s - loss: 0.3702 - accuracy: 0.842 - ETA: 10s - loss: 0.3695 - accuracy: 0.843 - ETA: 9s - loss: 0.3689 - accuracy: 0.843 - ETA: 8s - loss: 0.3684 - accuracy: 0.84 - ETA: 7s - loss: 0.3683 - accuracy: 0.84 - ETA: 7s - loss: 0.3680 - accuracy: 0.84 - ETA: 6s - loss: 0.3670 - accuracy: 0.84 - ETA: 5s - loss: 0.3664 - accuracy: 0.84 - ETA: 4s - loss: 0.3659 - accuracy: 0.84 - ETA: 3s - loss: 0.3654 - accuracy: 0.84 - ETA: 3s - loss: 0.3647 - accuracy: 0.84 - ETA: 2s - loss: 0.3645 - accuracy: 0.84 - ETA: 1s - loss: 0.3633 - accuracy: 0.84 - ETA: 0s - loss: 0.3620 - accuracy: 0.84 - 85s 3ms/step - loss: 0.3618 - accuracy: 0.8470 - val_loss: 0.3371 - val_accuracy: 0.8555\n",
      "Epoch 5/30\n",
      "30000/30000 [==============================] - ETA: 1:15 - loss: 0.3143 - accuracy: 0.85 - ETA: 1:13 - loss: 0.3120 - accuracy: 0.87 - ETA: 1:12 - loss: 0.3264 - accuracy: 0.86 - ETA: 1:12 - loss: 0.3260 - accuracy: 0.86 - ETA: 1:11 - loss: 0.3243 - accuracy: 0.86 - ETA: 1:11 - loss: 0.3198 - accuracy: 0.86 - ETA: 1:10 - loss: 0.3221 - accuracy: 0.86 - ETA: 1:10 - loss: 0.3189 - accuracy: 0.86 - ETA: 1:09 - loss: 0.3109 - accuracy: 0.87 - ETA: 1:09 - loss: 0.3220 - accuracy: 0.86 - ETA: 1:08 - loss: 0.3214 - accuracy: 0.86 - ETA: 1:07 - loss: 0.3211 - accuracy: 0.86 - ETA: 1:07 - loss: 0.3188 - accuracy: 0.86 - ETA: 1:06 - loss: 0.3146 - accuracy: 0.87 - ETA: 1:05 - loss: 0.3181 - accuracy: 0.86 - ETA: 1:05 - loss: 0.3147 - accuracy: 0.87 - ETA: 1:04 - loss: 0.3121 - accuracy: 0.87 - ETA: 1:03 - loss: 0.3118 - accuracy: 0.87 - ETA: 1:02 - loss: 0.3096 - accuracy: 0.87 - ETA: 1:01 - loss: 0.3075 - accuracy: 0.87 - ETA: 1:01 - loss: 0.3065 - accuracy: 0.87 - ETA: 1:00 - loss: 0.3060 - accuracy: 0.87 - ETA: 59s - loss: 0.3051 - accuracy: 0.8770 - ETA: 58s - loss: 0.3049 - accuracy: 0.877 - ETA: 1:16 - loss: 0.3058 - accuracy: 0.87 - ETA: 1:19 - loss: 0.3054 - accuracy: 0.87 - ETA: 1:19 - loss: 0.3075 - accuracy: 0.87 - ETA: 1:19 - loss: 0.3054 - accuracy: 0.87 - ETA: 1:19 - loss: 0.3047 - accuracy: 0.87 - ETA: 1:19 - loss: 0.3049 - accuracy: 0.87 - ETA: 1:19 - loss: 0.3047 - accuracy: 0.87 - ETA: 1:18 - loss: 0.3034 - accuracy: 0.87 - ETA: 1:18 - loss: 0.3033 - accuracy: 0.87 - ETA: 1:18 - loss: 0.3034 - accuracy: 0.87 - ETA: 1:17 - loss: 0.3030 - accuracy: 0.87 - ETA: 1:17 - loss: 0.3035 - accuracy: 0.87 - ETA: 1:16 - loss: 0.3045 - accuracy: 0.87 - ETA: 1:15 - loss: 0.3045 - accuracy: 0.87 - ETA: 1:15 - loss: 0.3039 - accuracy: 0.87 - ETA: 1:14 - loss: 0.3033 - accuracy: 0.87 - ETA: 1:13 - loss: 0.3034 - accuracy: 0.87 - ETA: 1:12 - loss: 0.3037 - accuracy: 0.87 - ETA: 1:12 - loss: 0.3020 - accuracy: 0.87 - ETA: 1:11 - loss: 0.3004 - accuracy: 0.87 - ETA: 1:10 - loss: 0.3008 - accuracy: 0.87 - ETA: 1:09 - loss: 0.3017 - accuracy: 0.87 - ETA: 1:08 - loss: 0.3017 - accuracy: 0.87 - ETA: 1:07 - loss: 0.3008 - accuracy: 0.87 - ETA: 1:06 - loss: 0.3002 - accuracy: 0.87 - ETA: 1:04 - loss: 0.2989 - accuracy: 0.87 - ETA: 1:03 - loss: 0.2982 - accuracy: 0.87 - ETA: 1:02 - loss: 0.2993 - accuracy: 0.87 - ETA: 1:01 - loss: 0.2977 - accuracy: 0.87 - ETA: 1:00 - loss: 0.2978 - accuracy: 0.87 - ETA: 59s - loss: 0.2997 - accuracy: 0.8781 - ETA: 58s - loss: 0.3014 - accuracy: 0.877 - ETA: 56s - loss: 0.3026 - accuracy: 0.876 - ETA: 55s - loss: 0.3025 - accuracy: 0.876 - ETA: 54s - loss: 0.3038 - accuracy: 0.876 - ETA: 53s - loss: 0.3043 - accuracy: 0.875 - ETA: 52s - loss: 0.3041 - accuracy: 0.876 - ETA: 51s - loss: 0.3043 - accuracy: 0.876 - ETA: 49s - loss: 0.3040 - accuracy: 0.875 - ETA: 48s - loss: 0.3037 - accuracy: 0.875 - ETA: 47s - loss: 0.3038 - accuracy: 0.875 - ETA: 46s - loss: 0.3048 - accuracy: 0.875 - ETA: 44s - loss: 0.3050 - accuracy: 0.875 - ETA: 43s - loss: 0.3056 - accuracy: 0.875 - ETA: 42s - loss: 0.3052 - accuracy: 0.875 - ETA: 40s - loss: 0.3046 - accuracy: 0.875 - ETA: 39s - loss: 0.3049 - accuracy: 0.874 - ETA: 38s - loss: 0.3055 - accuracy: 0.874 - ETA: 36s - loss: 0.3053 - accuracy: 0.874 - ETA: 35s - loss: 0.3053 - accuracy: 0.874 - ETA: 34s - loss: 0.3046 - accuracy: 0.874 - ETA: 33s - loss: 0.3041 - accuracy: 0.875 - ETA: 31s - loss: 0.3043 - accuracy: 0.874 - ETA: 30s - loss: 0.3041 - accuracy: 0.874 - ETA: 29s - loss: 0.3039 - accuracy: 0.875 - ETA: 27s - loss: 0.3039 - accuracy: 0.875 - ETA: 26s - loss: 0.3041 - accuracy: 0.874 - ETA: 25s - loss: 0.3039 - accuracy: 0.874 - ETA: 23s - loss: 0.3036 - accuracy: 0.875 - ETA: 22s - loss: 0.3034 - accuracy: 0.875 - ETA: 20s - loss: 0.3036 - accuracy: 0.875 - ETA: 19s - loss: 0.3030 - accuracy: 0.875 - ETA: 18s - loss: 0.3030 - accuracy: 0.875 - ETA: 16s - loss: 0.3031 - accuracy: 0.875 - ETA: 15s - loss: 0.3036 - accuracy: 0.875 - ETA: 13s - loss: 0.3028 - accuracy: 0.875 - ETA: 12s - loss: 0.3028 - accuracy: 0.875 - ETA: 11s - loss: 0.3031 - accuracy: 0.875 - ETA: 9s - loss: 0.3031 - accuracy: 0.875 - ETA: 8s - loss: 0.3038 - accuracy: 0.87 - ETA: 7s - loss: 0.3043 - accuracy: 0.87 - ETA: 5s - loss: 0.3040 - accuracy: 0.87 - ETA: 4s - loss: 0.3039 - accuracy: 0.87 - ETA: 2s - loss: 0.3035 - accuracy: 0.87 - ETA: 1s - loss: 0.3030 - accuracy: 0.87 - 150s 5ms/step - loss: 0.3027 - accuracy: 0.8755 - val_loss: 0.2857 - val_accuracy: 0.8856\n",
      "Epoch 6/30\n",
      "30000/30000 [==============================] - ETA: 2:35 - loss: 0.3158 - accuracy: 0.88 - ETA: 2:28 - loss: 0.2746 - accuracy: 0.88 - ETA: 2:25 - loss: 0.2694 - accuracy: 0.88 - ETA: 2:35 - loss: 0.2862 - accuracy: 0.87 - ETA: 2:37 - loss: 0.2766 - accuracy: 0.88 - ETA: 2:39 - loss: 0.2755 - accuracy: 0.88 - ETA: 2:36 - loss: 0.2772 - accuracy: 0.88 - ETA: 2:34 - loss: 0.2714 - accuracy: 0.88 - ETA: 2:31 - loss: 0.2669 - accuracy: 0.89 - ETA: 2:28 - loss: 0.2692 - accuracy: 0.89 - ETA: 2:25 - loss: 0.2718 - accuracy: 0.88 - ETA: 2:25 - loss: 0.2711 - accuracy: 0.89 - ETA: 2:23 - loss: 0.2723 - accuracy: 0.89 - ETA: 2:20 - loss: 0.2750 - accuracy: 0.88 - ETA: 2:19 - loss: 0.2755 - accuracy: 0.88 - ETA: 2:16 - loss: 0.2777 - accuracy: 0.88 - ETA: 2:14 - loss: 0.2804 - accuracy: 0.88 - ETA: 2:12 - loss: 0.2818 - accuracy: 0.88 - ETA: 2:11 - loss: 0.2809 - accuracy: 0.88 - ETA: 2:10 - loss: 0.2824 - accuracy: 0.88 - ETA: 2:09 - loss: 0.2832 - accuracy: 0.88 - ETA: 2:07 - loss: 0.2839 - accuracy: 0.88 - ETA: 2:05 - loss: 0.2868 - accuracy: 0.88 - ETA: 2:03 - loss: 0.2895 - accuracy: 0.88 - ETA: 2:01 - loss: 0.2896 - accuracy: 0.88 - ETA: 1:59 - loss: 0.2887 - accuracy: 0.88 - ETA: 1:58 - loss: 0.2867 - accuracy: 0.88 - ETA: 1:56 - loss: 0.2879 - accuracy: 0.88 - ETA: 1:54 - loss: 0.2878 - accuracy: 0.88 - ETA: 1:52 - loss: 0.2889 - accuracy: 0.88 - ETA: 1:50 - loss: 0.2906 - accuracy: 0.88 - ETA: 1:48 - loss: 0.2887 - accuracy: 0.88 - ETA: 1:47 - loss: 0.2893 - accuracy: 0.88 - ETA: 1:45 - loss: 0.2914 - accuracy: 0.88 - ETA: 1:43 - loss: 0.2931 - accuracy: 0.88 - ETA: 1:42 - loss: 0.2944 - accuracy: 0.87 - ETA: 1:40 - loss: 0.2959 - accuracy: 0.87 - ETA: 1:38 - loss: 0.2974 - accuracy: 0.87 - ETA: 1:36 - loss: 0.2979 - accuracy: 0.87 - ETA: 1:35 - loss: 0.2985 - accuracy: 0.87 - ETA: 1:33 - loss: 0.2987 - accuracy: 0.87 - ETA: 1:31 - loss: 0.2987 - accuracy: 0.87 - ETA: 1:30 - loss: 0.2977 - accuracy: 0.87 - ETA: 1:28 - loss: 0.2966 - accuracy: 0.87 - ETA: 1:26 - loss: 0.2974 - accuracy: 0.87 - ETA: 1:25 - loss: 0.2971 - accuracy: 0.87 - ETA: 1:23 - loss: 0.2969 - accuracy: 0.87 - ETA: 1:21 - loss: 0.2971 - accuracy: 0.87 - ETA: 1:20 - loss: 0.2970 - accuracy: 0.87 - ETA: 1:18 - loss: 0.2978 - accuracy: 0.87 - ETA: 1:17 - loss: 0.2981 - accuracy: 0.87 - ETA: 1:15 - loss: 0.2978 - accuracy: 0.87 - ETA: 1:13 - loss: 0.2972 - accuracy: 0.87 - ETA: 1:12 - loss: 0.2970 - accuracy: 0.87 - ETA: 1:10 - loss: 0.2962 - accuracy: 0.87 - ETA: 1:09 - loss: 0.2962 - accuracy: 0.87 - ETA: 1:07 - loss: 0.2955 - accuracy: 0.87 - ETA: 1:05 - loss: 0.2959 - accuracy: 0.87 - ETA: 1:04 - loss: 0.2960 - accuracy: 0.88 - ETA: 1:02 - loss: 0.2954 - accuracy: 0.88 - ETA: 1:01 - loss: 0.2951 - accuracy: 0.88 - ETA: 59s - loss: 0.2949 - accuracy: 0.8804 - ETA: 58s - loss: 0.2952 - accuracy: 0.879 - ETA: 56s - loss: 0.2952 - accuracy: 0.879 - ETA: 54s - loss: 0.2955 - accuracy: 0.879 - ETA: 53s - loss: 0.2963 - accuracy: 0.879 - ETA: 51s - loss: 0.2966 - accuracy: 0.879 - ETA: 50s - loss: 0.2972 - accuracy: 0.878 - ETA: 48s - loss: 0.2969 - accuracy: 0.878 - ETA: 47s - loss: 0.2967 - accuracy: 0.878 - ETA: 45s - loss: 0.2970 - accuracy: 0.878 - ETA: 43s - loss: 0.2976 - accuracy: 0.878 - ETA: 42s - loss: 0.2976 - accuracy: 0.877 - ETA: 40s - loss: 0.2976 - accuracy: 0.877 - ETA: 39s - loss: 0.2979 - accuracy: 0.877 - ETA: 37s - loss: 0.2971 - accuracy: 0.877 - ETA: 36s - loss: 0.2967 - accuracy: 0.878 - ETA: 34s - loss: 0.2971 - accuracy: 0.877 - ETA: 32s - loss: 0.2970 - accuracy: 0.877 - ETA: 31s - loss: 0.2968 - accuracy: 0.878 - ETA: 29s - loss: 0.2972 - accuracy: 0.877 - ETA: 28s - loss: 0.2975 - accuracy: 0.877 - ETA: 26s - loss: 0.2969 - accuracy: 0.877 - ETA: 25s - loss: 0.2967 - accuracy: 0.877 - ETA: 23s - loss: 0.2963 - accuracy: 0.877 - ETA: 22s - loss: 0.2962 - accuracy: 0.878 - ETA: 20s - loss: 0.2955 - accuracy: 0.878 - ETA: 18s - loss: 0.2953 - accuracy: 0.878 - ETA: 17s - loss: 0.2950 - accuracy: 0.878 - ETA: 15s - loss: 0.2939 - accuracy: 0.879 - ETA: 14s - loss: 0.2933 - accuracy: 0.879 - ETA: 12s - loss: 0.2931 - accuracy: 0.879 - ETA: 11s - loss: 0.2926 - accuracy: 0.880 - ETA: 9s - loss: 0.2923 - accuracy: 0.880 - ETA: 7s - loss: 0.2922 - accuracy: 0.88 - ETA: 6s - loss: 0.2925 - accuracy: 0.88 - ETA: 4s - loss: 0.2926 - accuracy: 0.87 - ETA: 3s - loss: 0.2917 - accuracy: 0.88 - ETA: 1s - loss: 0.2919 - accuracy: 0.88 - 167s 6ms/step - loss: 0.2919 - accuracy: 0.8803 - val_loss: 0.2847 - val_accuracy: 0.8862\n",
      "Epoch 7/30\n",
      "30000/30000 [==============================] - ETA: 2:27 - loss: 0.2299 - accuracy: 0.91 - ETA: 2:29 - loss: 0.2406 - accuracy: 0.90 - ETA: 2:33 - loss: 0.2573 - accuracy: 0.89 - ETA: 2:29 - loss: 0.2493 - accuracy: 0.90 - ETA: 2:26 - loss: 0.2530 - accuracy: 0.89 - ETA: 2:24 - loss: 0.2629 - accuracy: 0.89 - ETA: 2:21 - loss: 0.2618 - accuracy: 0.89 - ETA: 2:19 - loss: 0.2662 - accuracy: 0.89 - ETA: 2:18 - loss: 0.2686 - accuracy: 0.89 - ETA: 2:16 - loss: 0.2678 - accuracy: 0.89 - ETA: 2:14 - loss: 0.2600 - accuracy: 0.89 - ETA: 2:13 - loss: 0.2574 - accuracy: 0.89 - ETA: 2:12 - loss: 0.2602 - accuracy: 0.89 - ETA: 2:11 - loss: 0.2632 - accuracy: 0.89 - ETA: 2:10 - loss: 0.2604 - accuracy: 0.89 - ETA: 2:08 - loss: 0.2634 - accuracy: 0.89 - ETA: 2:06 - loss: 0.2636 - accuracy: 0.89 - ETA: 2:05 - loss: 0.2617 - accuracy: 0.89 - ETA: 2:03 - loss: 0.2626 - accuracy: 0.89 - ETA: 2:01 - loss: 0.2617 - accuracy: 0.89 - ETA: 2:00 - loss: 0.2606 - accuracy: 0.89 - ETA: 1:58 - loss: 0.2601 - accuracy: 0.89 - ETA: 1:57 - loss: 0.2595 - accuracy: 0.89 - ETA: 1:55 - loss: 0.2622 - accuracy: 0.89 - ETA: 1:54 - loss: 0.2606 - accuracy: 0.89 - ETA: 1:53 - loss: 0.2623 - accuracy: 0.89 - ETA: 1:51 - loss: 0.2654 - accuracy: 0.89 - ETA: 1:49 - loss: 0.2662 - accuracy: 0.89 - ETA: 1:48 - loss: 0.2665 - accuracy: 0.89 - ETA: 1:46 - loss: 0.2671 - accuracy: 0.89 - ETA: 1:44 - loss: 0.2676 - accuracy: 0.89 - ETA: 1:43 - loss: 0.2676 - accuracy: 0.89 - ETA: 1:41 - loss: 0.2675 - accuracy: 0.89 - ETA: 1:40 - loss: 0.2672 - accuracy: 0.89 - ETA: 1:38 - loss: 0.2665 - accuracy: 0.89 - ETA: 1:36 - loss: 0.2672 - accuracy: 0.89 - ETA: 1:35 - loss: 0.2662 - accuracy: 0.89 - ETA: 1:33 - loss: 0.2658 - accuracy: 0.89 - ETA: 1:31 - loss: 0.2661 - accuracy: 0.89 - ETA: 1:30 - loss: 0.2671 - accuracy: 0.89 - ETA: 1:28 - loss: 0.2678 - accuracy: 0.89 - ETA: 1:27 - loss: 0.2684 - accuracy: 0.89 - ETA: 1:26 - loss: 0.2691 - accuracy: 0.89 - ETA: 1:24 - loss: 0.2687 - accuracy: 0.89 - ETA: 1:22 - loss: 0.2677 - accuracy: 0.89 - ETA: 1:21 - loss: 0.2675 - accuracy: 0.89 - ETA: 1:19 - loss: 0.2669 - accuracy: 0.89 - ETA: 1:18 - loss: 0.2676 - accuracy: 0.89 - ETA: 1:16 - loss: 0.2683 - accuracy: 0.89 - ETA: 1:15 - loss: 0.2675 - accuracy: 0.89 - ETA: 1:13 - loss: 0.2663 - accuracy: 0.89 - ETA: 1:12 - loss: 0.2668 - accuracy: 0.89 - ETA: 1:10 - loss: 0.2667 - accuracy: 0.89 - ETA: 1:09 - loss: 0.2659 - accuracy: 0.89 - ETA: 1:07 - loss: 0.2665 - accuracy: 0.89 - ETA: 1:06 - loss: 0.2668 - accuracy: 0.89 - ETA: 1:04 - loss: 0.2665 - accuracy: 0.89 - ETA: 1:03 - loss: 0.2664 - accuracy: 0.89 - ETA: 1:01 - loss: 0.2664 - accuracy: 0.89 - ETA: 1:00 - loss: 0.2668 - accuracy: 0.89 - ETA: 58s - loss: 0.2668 - accuracy: 0.8931 - ETA: 57s - loss: 0.2667 - accuracy: 0.893 - ETA: 55s - loss: 0.2666 - accuracy: 0.893 - ETA: 54s - loss: 0.2658 - accuracy: 0.893 - ETA: 52s - loss: 0.2650 - accuracy: 0.893 - ETA: 51s - loss: 0.2648 - accuracy: 0.893 - ETA: 49s - loss: 0.2653 - accuracy: 0.893 - ETA: 48s - loss: 0.2663 - accuracy: 0.894 - ETA: 46s - loss: 0.2651 - accuracy: 0.894 - ETA: 45s - loss: 0.2654 - accuracy: 0.894 - ETA: 43s - loss: 0.2658 - accuracy: 0.894 - ETA: 42s - loss: 0.2664 - accuracy: 0.894 - ETA: 40s - loss: 0.2666 - accuracy: 0.893 - ETA: 39s - loss: 0.2666 - accuracy: 0.893 - ETA: 37s - loss: 0.2666 - accuracy: 0.893 - ETA: 36s - loss: 0.2663 - accuracy: 0.894 - ETA: 34s - loss: 0.2659 - accuracy: 0.894 - ETA: 33s - loss: 0.2658 - accuracy: 0.894 - ETA: 31s - loss: 0.2658 - accuracy: 0.894 - ETA: 30s - loss: 0.2654 - accuracy: 0.894 - ETA: 28s - loss: 0.2656 - accuracy: 0.894 - ETA: 27s - loss: 0.2649 - accuracy: 0.894 - ETA: 25s - loss: 0.2650 - accuracy: 0.894 - ETA: 24s - loss: 0.2650 - accuracy: 0.894 - ETA: 22s - loss: 0.2648 - accuracy: 0.894 - ETA: 21s - loss: 0.2644 - accuracy: 0.895 - ETA: 19s - loss: 0.2640 - accuracy: 0.895 - ETA: 18s - loss: 0.2635 - accuracy: 0.895 - ETA: 16s - loss: 0.2639 - accuracy: 0.895 - ETA: 15s - loss: 0.2639 - accuracy: 0.895 - ETA: 13s - loss: 0.2639 - accuracy: 0.895 - ETA: 12s - loss: 0.2636 - accuracy: 0.895 - ETA: 10s - loss: 0.2631 - accuracy: 0.895 - ETA: 9s - loss: 0.2630 - accuracy: 0.895 - ETA: 7s - loss: 0.2628 - accuracy: 0.89 - ETA: 6s - loss: 0.2629 - accuracy: 0.89 - ETA: 4s - loss: 0.2635 - accuracy: 0.89 - ETA: 3s - loss: 0.2628 - accuracy: 0.89 - ETA: 1s - loss: 0.2630 - accuracy: 0.89 - 161s 5ms/step - loss: 0.2629 - accuracy: 0.8956 - val_loss: 0.2688 - val_accuracy: 0.8932\n",
      "Epoch 8/30\n",
      "30000/30000 [==============================] - ETA: 2:24 - loss: 0.2321 - accuracy: 0.89 - ETA: 2:30 - loss: 0.2406 - accuracy: 0.90 - ETA: 2:25 - loss: 0.2509 - accuracy: 0.89 - ETA: 2:27 - loss: 0.2428 - accuracy: 0.89 - ETA: 2:24 - loss: 0.2395 - accuracy: 0.89 - ETA: 2:22 - loss: 0.2475 - accuracy: 0.89 - ETA: 2:21 - loss: 0.2522 - accuracy: 0.89 - ETA: 2:20 - loss: 0.2475 - accuracy: 0.89 - ETA: 2:19 - loss: 0.2488 - accuracy: 0.89 - ETA: 2:17 - loss: 0.2570 - accuracy: 0.89 - ETA: 2:15 - loss: 0.2491 - accuracy: 0.89 - ETA: 2:13 - loss: 0.2446 - accuracy: 0.89 - ETA: 2:11 - loss: 0.2455 - accuracy: 0.89 - ETA: 2:10 - loss: 0.2438 - accuracy: 0.89 - ETA: 2:08 - loss: 0.2427 - accuracy: 0.89 - ETA: 2:06 - loss: 0.2439 - accuracy: 0.89 - ETA: 2:05 - loss: 0.2417 - accuracy: 0.89 - ETA: 2:05 - loss: 0.2416 - accuracy: 0.89 - ETA: 2:03 - loss: 0.2417 - accuracy: 0.89 - ETA: 2:01 - loss: 0.2419 - accuracy: 0.89 - ETA: 1:59 - loss: 0.2409 - accuracy: 0.89 - ETA: 1:58 - loss: 0.2389 - accuracy: 0.90 - ETA: 1:56 - loss: 0.2408 - accuracy: 0.90 - ETA: 1:54 - loss: 0.2431 - accuracy: 0.90 - ETA: 1:53 - loss: 0.2432 - accuracy: 0.90 - ETA: 1:51 - loss: 0.2440 - accuracy: 0.90 - ETA: 1:50 - loss: 0.2426 - accuracy: 0.90 - ETA: 1:48 - loss: 0.2417 - accuracy: 0.90 - ETA: 1:47 - loss: 0.2417 - accuracy: 0.90 - ETA: 1:45 - loss: 0.2418 - accuracy: 0.90 - ETA: 1:44 - loss: 0.2422 - accuracy: 0.90 - ETA: 1:42 - loss: 0.2422 - accuracy: 0.90 - ETA: 1:41 - loss: 0.2411 - accuracy: 0.90 - ETA: 1:39 - loss: 0.2411 - accuracy: 0.90 - ETA: 1:38 - loss: 0.2403 - accuracy: 0.90 - ETA: 1:36 - loss: 0.2413 - accuracy: 0.90 - ETA: 1:35 - loss: 0.2421 - accuracy: 0.90 - ETA: 1:33 - loss: 0.2424 - accuracy: 0.90 - ETA: 1:32 - loss: 0.2431 - accuracy: 0.90 - ETA: 1:30 - loss: 0.2423 - accuracy: 0.90 - ETA: 1:28 - loss: 0.2424 - accuracy: 0.90 - ETA: 1:27 - loss: 0.2414 - accuracy: 0.90 - ETA: 1:25 - loss: 0.2404 - accuracy: 0.90 - ETA: 1:24 - loss: 0.2412 - accuracy: 0.90 - ETA: 1:22 - loss: 0.2410 - accuracy: 0.90 - ETA: 1:21 - loss: 0.2419 - accuracy: 0.90 - ETA: 1:19 - loss: 0.2419 - accuracy: 0.90 - ETA: 1:18 - loss: 0.2426 - accuracy: 0.90 - ETA: 1:17 - loss: 0.2420 - accuracy: 0.90 - ETA: 1:15 - loss: 0.2415 - accuracy: 0.90 - ETA: 1:14 - loss: 0.2408 - accuracy: 0.90 - ETA: 1:12 - loss: 0.2405 - accuracy: 0.90 - ETA: 1:11 - loss: 0.2416 - accuracy: 0.90 - ETA: 1:09 - loss: 0.2413 - accuracy: 0.90 - ETA: 1:08 - loss: 0.2418 - accuracy: 0.90 - ETA: 1:06 - loss: 0.2415 - accuracy: 0.90 - ETA: 1:05 - loss: 0.2424 - accuracy: 0.90 - ETA: 1:03 - loss: 0.2423 - accuracy: 0.90 - ETA: 1:02 - loss: 0.2425 - accuracy: 0.90 - ETA: 1:00 - loss: 0.2423 - accuracy: 0.90 - ETA: 58s - loss: 0.2421 - accuracy: 0.9030 - ETA: 57s - loss: 0.2413 - accuracy: 0.903 - ETA: 56s - loss: 0.2415 - accuracy: 0.903 - ETA: 54s - loss: 0.2422 - accuracy: 0.903 - ETA: 53s - loss: 0.2423 - accuracy: 0.903 - ETA: 51s - loss: 0.2421 - accuracy: 0.903 - ETA: 50s - loss: 0.2436 - accuracy: 0.902 - ETA: 48s - loss: 0.2444 - accuracy: 0.902 - ETA: 47s - loss: 0.2440 - accuracy: 0.902 - ETA: 45s - loss: 0.2449 - accuracy: 0.902 - ETA: 43s - loss: 0.2463 - accuracy: 0.901 - ETA: 42s - loss: 0.2469 - accuracy: 0.900 - ETA: 40s - loss: 0.2475 - accuracy: 0.900 - ETA: 39s - loss: 0.2484 - accuracy: 0.900 - ETA: 37s - loss: 0.2501 - accuracy: 0.899 - ETA: 36s - loss: 0.2501 - accuracy: 0.899 - ETA: 34s - loss: 0.2506 - accuracy: 0.899 - ETA: 33s - loss: 0.2511 - accuracy: 0.899 - ETA: 31s - loss: 0.2508 - accuracy: 0.899 - ETA: 30s - loss: 0.2508 - accuracy: 0.899 - ETA: 28s - loss: 0.2505 - accuracy: 0.899 - ETA: 27s - loss: 0.2508 - accuracy: 0.899 - ETA: 25s - loss: 0.2507 - accuracy: 0.899 - ETA: 24s - loss: 0.2507 - accuracy: 0.899 - ETA: 22s - loss: 0.2507 - accuracy: 0.899 - ETA: 21s - loss: 0.2517 - accuracy: 0.899 - ETA: 19s - loss: 0.2519 - accuracy: 0.899 - ETA: 18s - loss: 0.2520 - accuracy: 0.898 - ETA: 16s - loss: 0.2514 - accuracy: 0.899 - ETA: 15s - loss: 0.2512 - accuracy: 0.899 - ETA: 13s - loss: 0.2510 - accuracy: 0.899 - ETA: 12s - loss: 0.2508 - accuracy: 0.899 - ETA: 10s - loss: 0.2505 - accuracy: 0.899 - ETA: 9s - loss: 0.2504 - accuracy: 0.899 - ETA: 7s - loss: 0.2505 - accuracy: 0.89 - ETA: 6s - loss: 0.2506 - accuracy: 0.89 - ETA: 4s - loss: 0.2504 - accuracy: 0.90 - ETA: 3s - loss: 0.2498 - accuracy: 0.90 - ETA: 1s - loss: 0.2504 - accuracy: 0.90 - 166s 6ms/step - loss: 0.2509 - accuracy: 0.8994 - val_loss: 0.2665 - val_accuracy: 0.8901\n",
      "Epoch 9/30\n",
      "30000/30000 [==============================] - ETA: 2:44 - loss: 0.1992 - accuracy: 0.92 - ETA: 2:38 - loss: 0.2352 - accuracy: 0.89 - ETA: 2:34 - loss: 0.2377 - accuracy: 0.89 - ETA: 2:32 - loss: 0.2354 - accuracy: 0.90 - ETA: 2:27 - loss: 0.2233 - accuracy: 0.90 - ETA: 2:24 - loss: 0.2152 - accuracy: 0.91 - ETA: 2:24 - loss: 0.2184 - accuracy: 0.90 - ETA: 2:22 - loss: 0.2222 - accuracy: 0.90 - ETA: 2:19 - loss: 0.2151 - accuracy: 0.91 - ETA: 2:17 - loss: 0.2195 - accuracy: 0.90 - ETA: 2:14 - loss: 0.2227 - accuracy: 0.90 - ETA: 2:15 - loss: 0.2211 - accuracy: 0.90 - ETA: 2:13 - loss: 0.2225 - accuracy: 0.90 - ETA: 2:11 - loss: 0.2201 - accuracy: 0.90 - ETA: 2:09 - loss: 0.2226 - accuracy: 0.90 - ETA: 2:07 - loss: 0.2220 - accuracy: 0.90 - ETA: 2:05 - loss: 0.2198 - accuracy: 0.90 - ETA: 2:03 - loss: 0.2196 - accuracy: 0.90 - ETA: 2:02 - loss: 0.2215 - accuracy: 0.90 - ETA: 2:01 - loss: 0.2201 - accuracy: 0.90 - ETA: 1:59 - loss: 0.2219 - accuracy: 0.90 - ETA: 1:57 - loss: 0.2205 - accuracy: 0.90 - ETA: 1:56 - loss: 0.2194 - accuracy: 0.91 - ETA: 1:54 - loss: 0.2212 - accuracy: 0.91 - ETA: 1:53 - loss: 0.2208 - accuracy: 0.91 - ETA: 1:51 - loss: 0.2202 - accuracy: 0.91 - ETA: 1:50 - loss: 0.2216 - accuracy: 0.91 - ETA: 1:48 - loss: 0.2220 - accuracy: 0.91 - ETA: 1:47 - loss: 0.2227 - accuracy: 0.91 - ETA: 1:45 - loss: 0.2238 - accuracy: 0.91 - ETA: 1:43 - loss: 0.2243 - accuracy: 0.90 - ETA: 1:42 - loss: 0.2256 - accuracy: 0.90 - ETA: 1:41 - loss: 0.2247 - accuracy: 0.90 - ETA: 1:39 - loss: 0.2245 - accuracy: 0.90 - ETA: 1:37 - loss: 0.2248 - accuracy: 0.90 - ETA: 1:36 - loss: 0.2240 - accuracy: 0.90 - ETA: 1:35 - loss: 0.2226 - accuracy: 0.91 - ETA: 1:33 - loss: 0.2255 - accuracy: 0.90 - ETA: 1:31 - loss: 0.2254 - accuracy: 0.90 - ETA: 1:30 - loss: 0.2263 - accuracy: 0.90 - ETA: 1:28 - loss: 0.2281 - accuracy: 0.90 - ETA: 1:27 - loss: 0.2284 - accuracy: 0.90 - ETA: 1:25 - loss: 0.2290 - accuracy: 0.90 - ETA: 1:23 - loss: 0.2283 - accuracy: 0.90 - ETA: 1:22 - loss: 0.2277 - accuracy: 0.90 - ETA: 1:20 - loss: 0.2287 - accuracy: 0.90 - ETA: 1:19 - loss: 0.2282 - accuracy: 0.90 - ETA: 1:17 - loss: 0.2286 - accuracy: 0.90 - ETA: 1:16 - loss: 0.2293 - accuracy: 0.90 - ETA: 1:15 - loss: 0.2299 - accuracy: 0.90 - ETA: 1:14 - loss: 0.2297 - accuracy: 0.90 - ETA: 1:12 - loss: 0.2296 - accuracy: 0.90 - ETA: 1:11 - loss: 0.2292 - accuracy: 0.90 - ETA: 1:09 - loss: 0.2305 - accuracy: 0.90 - ETA: 1:07 - loss: 0.2310 - accuracy: 0.90 - ETA: 1:06 - loss: 0.2300 - accuracy: 0.90 - ETA: 1:04 - loss: 0.2296 - accuracy: 0.90 - ETA: 1:03 - loss: 0.2297 - accuracy: 0.90 - ETA: 1:01 - loss: 0.2295 - accuracy: 0.90 - ETA: 1:00 - loss: 0.2293 - accuracy: 0.90 - ETA: 58s - loss: 0.2288 - accuracy: 0.9072 - ETA: 57s - loss: 0.2289 - accuracy: 0.907 - ETA: 55s - loss: 0.2291 - accuracy: 0.907 - ETA: 54s - loss: 0.2283 - accuracy: 0.907 - ETA: 52s - loss: 0.2278 - accuracy: 0.907 - ETA: 51s - loss: 0.2276 - accuracy: 0.907 - ETA: 49s - loss: 0.2272 - accuracy: 0.908 - ETA: 48s - loss: 0.2279 - accuracy: 0.907 - ETA: 46s - loss: 0.2290 - accuracy: 0.907 - ETA: 45s - loss: 0.2295 - accuracy: 0.907 - ETA: 43s - loss: 0.2298 - accuracy: 0.906 - ETA: 42s - loss: 0.2298 - accuracy: 0.906 - ETA: 40s - loss: 0.2298 - accuracy: 0.906 - ETA: 38s - loss: 0.2300 - accuracy: 0.906 - ETA: 37s - loss: 0.2299 - accuracy: 0.906 - ETA: 36s - loss: 0.2296 - accuracy: 0.906 - ETA: 34s - loss: 0.2312 - accuracy: 0.906 - ETA: 32s - loss: 0.2313 - accuracy: 0.906 - ETA: 31s - loss: 0.2315 - accuracy: 0.906 - ETA: 29s - loss: 0.2310 - accuracy: 0.907 - ETA: 28s - loss: 0.2304 - accuracy: 0.907 - ETA: 26s - loss: 0.2306 - accuracy: 0.907 - ETA: 25s - loss: 0.2312 - accuracy: 0.907 - ETA: 23s - loss: 0.2313 - accuracy: 0.906 - ETA: 22s - loss: 0.2315 - accuracy: 0.906 - ETA: 20s - loss: 0.2313 - accuracy: 0.906 - ETA: 19s - loss: 0.2320 - accuracy: 0.906 - ETA: 17s - loss: 0.2321 - accuracy: 0.906 - ETA: 16s - loss: 0.2324 - accuracy: 0.906 - ETA: 14s - loss: 0.2324 - accuracy: 0.907 - ETA: 13s - loss: 0.2321 - accuracy: 0.907 - ETA: 11s - loss: 0.2322 - accuracy: 0.907 - ETA: 10s - loss: 0.2325 - accuracy: 0.907 - ETA: 8s - loss: 0.2324 - accuracy: 0.907 - ETA: 7s - loss: 0.2334 - accuracy: 0.90 - ETA: 5s - loss: 0.2335 - accuracy: 0.90 - ETA: 4s - loss: 0.2341 - accuracy: 0.90 - ETA: 2s - loss: 0.2345 - accuracy: 0.90 - ETA: 1s - loss: 0.2348 - accuracy: 0.90 - 158s 5ms/step - loss: 0.2350 - accuracy: 0.9055 - val_loss: 0.2748 - val_accuracy: 0.8873\n",
      "Epoch 10/30\n",
      "30000/30000 [==============================] - ETA: 2:30 - loss: 0.2289 - accuracy: 0.92 - ETA: 2:20 - loss: 0.2245 - accuracy: 0.91 - ETA: 2:21 - loss: 0.2325 - accuracy: 0.91 - ETA: 2:18 - loss: 0.2334 - accuracy: 0.91 - ETA: 2:21 - loss: 0.2365 - accuracy: 0.91 - ETA: 2:18 - loss: 0.2406 - accuracy: 0.91 - ETA: 2:17 - loss: 0.2358 - accuracy: 0.91 - ETA: 2:17 - loss: 0.2343 - accuracy: 0.91 - ETA: 2:15 - loss: 0.2355 - accuracy: 0.91 - ETA: 2:14 - loss: 0.2343 - accuracy: 0.91 - ETA: 2:13 - loss: 0.2356 - accuracy: 0.91 - ETA: 2:11 - loss: 0.2364 - accuracy: 0.91 - ETA: 2:10 - loss: 0.2344 - accuracy: 0.91 - ETA: 2:08 - loss: 0.2346 - accuracy: 0.91 - ETA: 2:07 - loss: 0.2352 - accuracy: 0.91 - ETA: 2:06 - loss: 0.2324 - accuracy: 0.91 - ETA: 2:04 - loss: 0.2332 - accuracy: 0.91 - ETA: 2:03 - loss: 0.2322 - accuracy: 0.91 - ETA: 2:01 - loss: 0.2306 - accuracy: 0.91 - ETA: 2:00 - loss: 0.2265 - accuracy: 0.91 - ETA: 1:58 - loss: 0.2251 - accuracy: 0.91 - ETA: 1:56 - loss: 0.2248 - accuracy: 0.91 - ETA: 1:55 - loss: 0.2257 - accuracy: 0.91 - ETA: 1:53 - loss: 0.2241 - accuracy: 0.91 - ETA: 1:53 - loss: 0.2210 - accuracy: 0.91 - ETA: 1:53 - loss: 0.2191 - accuracy: 0.91 - ETA: 1:52 - loss: 0.2195 - accuracy: 0.91 - ETA: 1:50 - loss: 0.2226 - accuracy: 0.91 - ETA: 1:49 - loss: 0.2205 - accuracy: 0.91 - ETA: 1:47 - loss: 0.2202 - accuracy: 0.91 - ETA: 1:45 - loss: 0.2192 - accuracy: 0.91 - ETA: 1:44 - loss: 0.2194 - accuracy: 0.91 - ETA: 1:42 - loss: 0.2200 - accuracy: 0.91 - ETA: 1:40 - loss: 0.2188 - accuracy: 0.91 - ETA: 1:39 - loss: 0.2181 - accuracy: 0.91 - ETA: 1:37 - loss: 0.2173 - accuracy: 0.91 - ETA: 1:35 - loss: 0.2177 - accuracy: 0.91 - ETA: 1:34 - loss: 0.2171 - accuracy: 0.91 - ETA: 1:33 - loss: 0.2177 - accuracy: 0.91 - ETA: 1:31 - loss: 0.2174 - accuracy: 0.91 - ETA: 1:30 - loss: 0.2155 - accuracy: 0.91 - ETA: 1:28 - loss: 0.2151 - accuracy: 0.91 - ETA: 1:26 - loss: 0.2158 - accuracy: 0.91 - ETA: 1:25 - loss: 0.2161 - accuracy: 0.91 - ETA: 1:23 - loss: 0.2157 - accuracy: 0.91 - ETA: 1:22 - loss: 0.2158 - accuracy: 0.91 - ETA: 1:20 - loss: 0.2160 - accuracy: 0.91 - ETA: 1:19 - loss: 0.2162 - accuracy: 0.91 - ETA: 1:17 - loss: 0.2168 - accuracy: 0.91 - ETA: 1:16 - loss: 0.2164 - accuracy: 0.91 - ETA: 1:14 - loss: 0.2175 - accuracy: 0.91 - ETA: 1:13 - loss: 0.2175 - accuracy: 0.91 - ETA: 1:11 - loss: 0.2175 - accuracy: 0.91 - ETA: 1:09 - loss: 0.2172 - accuracy: 0.91 - ETA: 1:08 - loss: 0.2183 - accuracy: 0.91 - ETA: 1:06 - loss: 0.2188 - accuracy: 0.91 - ETA: 1:05 - loss: 0.2189 - accuracy: 0.91 - ETA: 1:03 - loss: 0.2199 - accuracy: 0.91 - ETA: 1:02 - loss: 0.2205 - accuracy: 0.91 - ETA: 1:00 - loss: 0.2195 - accuracy: 0.91 - ETA: 59s - loss: 0.2193 - accuracy: 0.9139 - ETA: 57s - loss: 0.2195 - accuracy: 0.913 - ETA: 56s - loss: 0.2203 - accuracy: 0.913 - ETA: 54s - loss: 0.2203 - accuracy: 0.912 - ETA: 53s - loss: 0.2204 - accuracy: 0.912 - ETA: 51s - loss: 0.2202 - accuracy: 0.912 - ETA: 50s - loss: 0.2204 - accuracy: 0.912 - ETA: 48s - loss: 0.2203 - accuracy: 0.912 - ETA: 47s - loss: 0.2200 - accuracy: 0.912 - ETA: 45s - loss: 0.2194 - accuracy: 0.912 - ETA: 43s - loss: 0.2192 - accuracy: 0.913 - ETA: 42s - loss: 0.2189 - accuracy: 0.913 - ETA: 40s - loss: 0.2193 - accuracy: 0.913 - ETA: 39s - loss: 0.2196 - accuracy: 0.912 - ETA: 37s - loss: 0.2193 - accuracy: 0.912 - ETA: 36s - loss: 0.2186 - accuracy: 0.913 - ETA: 34s - loss: 0.2188 - accuracy: 0.913 - ETA: 33s - loss: 0.2191 - accuracy: 0.912 - ETA: 31s - loss: 0.2197 - accuracy: 0.912 - ETA: 30s - loss: 0.2199 - accuracy: 0.913 - ETA: 28s - loss: 0.2206 - accuracy: 0.912 - ETA: 27s - loss: 0.2198 - accuracy: 0.913 - ETA: 25s - loss: 0.2205 - accuracy: 0.912 - ETA: 24s - loss: 0.2205 - accuracy: 0.912 - ETA: 22s - loss: 0.2206 - accuracy: 0.912 - ETA: 21s - loss: 0.2203 - accuracy: 0.912 - ETA: 19s - loss: 0.2207 - accuracy: 0.912 - ETA: 18s - loss: 0.2205 - accuracy: 0.912 - ETA: 16s - loss: 0.2201 - accuracy: 0.912 - ETA: 15s - loss: 0.2203 - accuracy: 0.912 - ETA: 13s - loss: 0.2204 - accuracy: 0.912 - ETA: 12s - loss: 0.2211 - accuracy: 0.912 - ETA: 10s - loss: 0.2211 - accuracy: 0.912 - ETA: 9s - loss: 0.2211 - accuracy: 0.912 - ETA: 7s - loss: 0.2212 - accuracy: 0.91 - ETA: 6s - loss: 0.2209 - accuracy: 0.91 - ETA: 4s - loss: 0.2206 - accuracy: 0.91 - ETA: 3s - loss: 0.2204 - accuracy: 0.91 - ETA: 1s - loss: 0.2206 - accuracy: 0.91 - 159s 5ms/step - loss: 0.2207 - accuracy: 0.9126 - val_loss: 0.2760 - val_accuracy: 0.8797\n",
      "Epoch 11/30\n",
      "30000/30000 [==============================] - ETA: 2:24 - loss: 0.1766 - accuracy: 0.93 - ETA: 2:21 - loss: 0.2337 - accuracy: 0.91 - ETA: 2:21 - loss: 0.2347 - accuracy: 0.91 - ETA: 2:19 - loss: 0.2274 - accuracy: 0.91 - ETA: 2:18 - loss: 0.2142 - accuracy: 0.92 - ETA: 2:16 - loss: 0.2247 - accuracy: 0.91 - ETA: 2:14 - loss: 0.2266 - accuracy: 0.91 - ETA: 2:13 - loss: 0.2235 - accuracy: 0.91 - ETA: 2:12 - loss: 0.2163 - accuracy: 0.91 - ETA: 2:11 - loss: 0.2165 - accuracy: 0.91 - ETA: 2:11 - loss: 0.2190 - accuracy: 0.91 - ETA: 2:12 - loss: 0.2297 - accuracy: 0.91 - ETA: 2:11 - loss: 0.2317 - accuracy: 0.91 - ETA: 2:09 - loss: 0.2351 - accuracy: 0.91 - ETA: 2:07 - loss: 0.2385 - accuracy: 0.90 - ETA: 2:06 - loss: 0.2390 - accuracy: 0.90 - ETA: 2:05 - loss: 0.2408 - accuracy: 0.90 - ETA: 2:04 - loss: 0.2424 - accuracy: 0.90 - ETA: 2:02 - loss: 0.2447 - accuracy: 0.90 - ETA: 2:01 - loss: 0.2457 - accuracy: 0.90 - ETA: 1:59 - loss: 0.2425 - accuracy: 0.90 - ETA: 1:57 - loss: 0.2400 - accuracy: 0.90 - ETA: 1:56 - loss: 0.2406 - accuracy: 0.90 - ETA: 1:54 - loss: 0.2378 - accuracy: 0.90 - ETA: 1:52 - loss: 0.2367 - accuracy: 0.90 - ETA: 1:51 - loss: 0.2356 - accuracy: 0.90 - ETA: 1:49 - loss: 0.2348 - accuracy: 0.90 - ETA: 1:48 - loss: 0.2338 - accuracy: 0.90 - ETA: 1:46 - loss: 0.2326 - accuracy: 0.90 - ETA: 1:45 - loss: 0.2315 - accuracy: 0.90 - ETA: 1:43 - loss: 0.2316 - accuracy: 0.90 - ETA: 1:41 - loss: 0.2308 - accuracy: 0.90 - ETA: 1:40 - loss: 0.2297 - accuracy: 0.90 - ETA: 1:38 - loss: 0.2288 - accuracy: 0.90 - ETA: 1:37 - loss: 0.2271 - accuracy: 0.90 - ETA: 1:35 - loss: 0.2246 - accuracy: 0.91 - ETA: 1:34 - loss: 0.2241 - accuracy: 0.91 - ETA: 1:32 - loss: 0.2224 - accuracy: 0.91 - ETA: 1:30 - loss: 0.2205 - accuracy: 0.91 - ETA: 1:29 - loss: 0.2197 - accuracy: 0.91 - ETA: 1:28 - loss: 0.2178 - accuracy: 0.91 - ETA: 1:26 - loss: 0.2169 - accuracy: 0.91 - ETA: 1:25 - loss: 0.2170 - accuracy: 0.91 - ETA: 1:23 - loss: 0.2168 - accuracy: 0.91 - ETA: 1:21 - loss: 0.2162 - accuracy: 0.91 - ETA: 1:20 - loss: 0.2170 - accuracy: 0.91 - ETA: 1:19 - loss: 0.2166 - accuracy: 0.91 - ETA: 1:17 - loss: 0.2158 - accuracy: 0.91 - ETA: 1:16 - loss: 0.2163 - accuracy: 0.91 - ETA: 1:14 - loss: 0.2162 - accuracy: 0.91 - ETA: 1:13 - loss: 0.2160 - accuracy: 0.91 - ETA: 1:11 - loss: 0.2160 - accuracy: 0.91 - ETA: 1:10 - loss: 0.2170 - accuracy: 0.91 - ETA: 1:08 - loss: 0.2166 - accuracy: 0.91 - ETA: 1:07 - loss: 0.2158 - accuracy: 0.91 - ETA: 1:05 - loss: 0.2158 - accuracy: 0.91 - ETA: 1:04 - loss: 0.2158 - accuracy: 0.91 - ETA: 1:02 - loss: 0.2148 - accuracy: 0.91 - ETA: 1:01 - loss: 0.2146 - accuracy: 0.91 - ETA: 59s - loss: 0.2155 - accuracy: 0.9150 - ETA: 58s - loss: 0.2156 - accuracy: 0.914 - ETA: 56s - loss: 0.2156 - accuracy: 0.915 - ETA: 55s - loss: 0.2149 - accuracy: 0.915 - ETA: 53s - loss: 0.2147 - accuracy: 0.915 - ETA: 52s - loss: 0.2144 - accuracy: 0.915 - ETA: 50s - loss: 0.2135 - accuracy: 0.916 - ETA: 49s - loss: 0.2142 - accuracy: 0.915 - ETA: 47s - loss: 0.2149 - accuracy: 0.915 - ETA: 46s - loss: 0.2146 - accuracy: 0.916 - ETA: 44s - loss: 0.2141 - accuracy: 0.916 - ETA: 43s - loss: 0.2139 - accuracy: 0.916 - ETA: 41s - loss: 0.2139 - accuracy: 0.916 - ETA: 40s - loss: 0.2141 - accuracy: 0.915 - ETA: 38s - loss: 0.2150 - accuracy: 0.915 - ETA: 37s - loss: 0.2142 - accuracy: 0.915 - ETA: 35s - loss: 0.2144 - accuracy: 0.915 - ETA: 34s - loss: 0.2138 - accuracy: 0.916 - ETA: 32s - loss: 0.2139 - accuracy: 0.916 - ETA: 31s - loss: 0.2137 - accuracy: 0.916 - ETA: 29s - loss: 0.2133 - accuracy: 0.916 - ETA: 28s - loss: 0.2134 - accuracy: 0.916 - ETA: 27s - loss: 0.2132 - accuracy: 0.916 - ETA: 25s - loss: 0.2120 - accuracy: 0.917 - ETA: 24s - loss: 0.2119 - accuracy: 0.917 - ETA: 22s - loss: 0.2118 - accuracy: 0.917 - ETA: 21s - loss: 0.2118 - accuracy: 0.917 - ETA: 19s - loss: 0.2112 - accuracy: 0.917 - ETA: 18s - loss: 0.2112 - accuracy: 0.917 - ETA: 16s - loss: 0.2113 - accuracy: 0.917 - ETA: 15s - loss: 0.2114 - accuracy: 0.917 - ETA: 13s - loss: 0.2108 - accuracy: 0.917 - ETA: 12s - loss: 0.2105 - accuracy: 0.917 - ETA: 10s - loss: 0.2109 - accuracy: 0.917 - ETA: 9s - loss: 0.2108 - accuracy: 0.918 - ETA: 7s - loss: 0.2111 - accuracy: 0.91 - ETA: 6s - loss: 0.2106 - accuracy: 0.91 - ETA: 4s - loss: 0.2103 - accuracy: 0.91 - ETA: 3s - loss: 0.2099 - accuracy: 0.91 - ETA: 1s - loss: 0.2096 - accuracy: 0.91 - 158s 5ms/step - loss: 0.2091 - accuracy: 0.9188 - val_loss: 0.2754 - val_accuracy: 0.8922\n",
      "Epoch 12/30\n",
      "30000/30000 [==============================] - ETA: 2:23 - loss: 0.1707 - accuracy: 0.92 - ETA: 2:24 - loss: 0.1809 - accuracy: 0.92 - ETA: 2:22 - loss: 0.1760 - accuracy: 0.93 - ETA: 2:21 - loss: 0.1897 - accuracy: 0.92 - ETA: 2:21 - loss: 0.1918 - accuracy: 0.92 - ETA: 2:20 - loss: 0.1957 - accuracy: 0.92 - ETA: 2:18 - loss: 0.1991 - accuracy: 0.92 - ETA: 2:17 - loss: 0.2088 - accuracy: 0.91 - ETA: 2:15 - loss: 0.2065 - accuracy: 0.91 - ETA: 2:13 - loss: 0.2089 - accuracy: 0.91 - ETA: 2:11 - loss: 0.2056 - accuracy: 0.91 - ETA: 2:10 - loss: 0.2088 - accuracy: 0.91 - ETA: 2:08 - loss: 0.2074 - accuracy: 0.91 - ETA: 2:07 - loss: 0.2052 - accuracy: 0.91 - ETA: 2:06 - loss: 0.2045 - accuracy: 0.91 - ETA: 2:05 - loss: 0.2052 - accuracy: 0.91 - ETA: 2:04 - loss: 0.2044 - accuracy: 0.91 - ETA: 2:02 - loss: 0.2008 - accuracy: 0.91 - ETA: 2:00 - loss: 0.1994 - accuracy: 0.92 - ETA: 1:59 - loss: 0.1986 - accuracy: 0.92 - ETA: 1:58 - loss: 0.1997 - accuracy: 0.92 - ETA: 1:56 - loss: 0.1983 - accuracy: 0.92 - ETA: 1:55 - loss: 0.1969 - accuracy: 0.92 - ETA: 1:54 - loss: 0.1966 - accuracy: 0.92 - ETA: 1:52 - loss: 0.1947 - accuracy: 0.92 - ETA: 1:50 - loss: 0.1950 - accuracy: 0.92 - ETA: 1:49 - loss: 0.1950 - accuracy: 0.92 - ETA: 1:48 - loss: 0.1939 - accuracy: 0.92 - ETA: 1:46 - loss: 0.1922 - accuracy: 0.92 - ETA: 1:45 - loss: 0.1920 - accuracy: 0.92 - ETA: 1:43 - loss: 0.1911 - accuracy: 0.92 - ETA: 1:42 - loss: 0.1909 - accuracy: 0.92 - ETA: 1:40 - loss: 0.1920 - accuracy: 0.92 - ETA: 1:39 - loss: 0.1919 - accuracy: 0.92 - ETA: 1:37 - loss: 0.1928 - accuracy: 0.92 - ETA: 1:36 - loss: 0.1923 - accuracy: 0.92 - ETA: 1:34 - loss: 0.1934 - accuracy: 0.92 - ETA: 1:33 - loss: 0.1923 - accuracy: 0.92 - ETA: 1:31 - loss: 0.1929 - accuracy: 0.92 - ETA: 1:30 - loss: 0.1931 - accuracy: 0.92 - ETA: 1:28 - loss: 0.1924 - accuracy: 0.92 - ETA: 1:27 - loss: 0.1934 - accuracy: 0.92 - ETA: 1:25 - loss: 0.1938 - accuracy: 0.92 - ETA: 1:24 - loss: 0.1938 - accuracy: 0.92 - ETA: 1:22 - loss: 0.1936 - accuracy: 0.92 - ETA: 1:21 - loss: 0.1942 - accuracy: 0.92 - ETA: 1:19 - loss: 0.1937 - accuracy: 0.92 - ETA: 1:17 - loss: 0.1942 - accuracy: 0.92 - ETA: 1:16 - loss: 0.1943 - accuracy: 0.92 - ETA: 1:14 - loss: 0.1946 - accuracy: 0.92 - ETA: 1:13 - loss: 0.1943 - accuracy: 0.92 - ETA: 1:11 - loss: 0.1943 - accuracy: 0.92 - ETA: 1:10 - loss: 0.1937 - accuracy: 0.92 - ETA: 1:09 - loss: 0.1927 - accuracy: 0.92 - ETA: 1:07 - loss: 0.1941 - accuracy: 0.92 - ETA: 1:05 - loss: 0.1938 - accuracy: 0.92 - ETA: 1:04 - loss: 0.1935 - accuracy: 0.92 - ETA: 1:02 - loss: 0.1936 - accuracy: 0.92 - ETA: 1:01 - loss: 0.1924 - accuracy: 0.92 - ETA: 59s - loss: 0.1921 - accuracy: 0.9257 - ETA: 58s - loss: 0.1919 - accuracy: 0.925 - ETA: 56s - loss: 0.1921 - accuracy: 0.925 - ETA: 55s - loss: 0.1921 - accuracy: 0.925 - ETA: 54s - loss: 0.1925 - accuracy: 0.925 - ETA: 52s - loss: 0.1920 - accuracy: 0.925 - ETA: 51s - loss: 0.1927 - accuracy: 0.925 - ETA: 49s - loss: 0.1931 - accuracy: 0.925 - ETA: 48s - loss: 0.1922 - accuracy: 0.925 - ETA: 46s - loss: 0.1927 - accuracy: 0.925 - ETA: 45s - loss: 0.1925 - accuracy: 0.925 - ETA: 43s - loss: 0.1930 - accuracy: 0.924 - ETA: 41s - loss: 0.1928 - accuracy: 0.925 - ETA: 40s - loss: 0.1923 - accuracy: 0.925 - ETA: 38s - loss: 0.1919 - accuracy: 0.925 - ETA: 37s - loss: 0.1913 - accuracy: 0.925 - ETA: 35s - loss: 0.1917 - accuracy: 0.925 - ETA: 34s - loss: 0.1928 - accuracy: 0.925 - ETA: 32s - loss: 0.1923 - accuracy: 0.925 - ETA: 31s - loss: 0.1931 - accuracy: 0.925 - ETA: 29s - loss: 0.1926 - accuracy: 0.925 - ETA: 28s - loss: 0.1924 - accuracy: 0.925 - ETA: 26s - loss: 0.1924 - accuracy: 0.925 - ETA: 25s - loss: 0.1920 - accuracy: 0.925 - ETA: 23s - loss: 0.1926 - accuracy: 0.925 - ETA: 22s - loss: 0.1930 - accuracy: 0.925 - ETA: 20s - loss: 0.1928 - accuracy: 0.925 - ETA: 19s - loss: 0.1934 - accuracy: 0.925 - ETA: 17s - loss: 0.1927 - accuracy: 0.925 - ETA: 16s - loss: 0.1922 - accuracy: 0.925 - ETA: 14s - loss: 0.1920 - accuracy: 0.925 - ETA: 13s - loss: 0.1922 - accuracy: 0.925 - ETA: 11s - loss: 0.1929 - accuracy: 0.925 - ETA: 10s - loss: 0.1932 - accuracy: 0.925 - ETA: 8s - loss: 0.1934 - accuracy: 0.925 - ETA: 7s - loss: 0.1934 - accuracy: 0.92 - ETA: 5s - loss: 0.1932 - accuracy: 0.92 - ETA: 4s - loss: 0.1939 - accuracy: 0.92 - ETA: 3s - loss: 0.1941 - accuracy: 0.92 - ETA: 1s - loss: 0.1942 - accuracy: 0.92 - 159s 5ms/step - loss: 0.1945 - accuracy: 0.9244 - val_loss: 0.2890 - val_accuracy: 0.8954\n",
      "Epoch 13/30\n",
      "30000/30000 [==============================] - ETA: 2:34 - loss: 0.2100 - accuracy: 0.92 - ETA: 2:24 - loss: 0.1803 - accuracy: 0.94 - ETA: 2:22 - loss: 0.1849 - accuracy: 0.93 - ETA: 2:21 - loss: 0.1827 - accuracy: 0.93 - ETA: 2:21 - loss: 0.1833 - accuracy: 0.93 - ETA: 2:20 - loss: 0.1793 - accuracy: 0.93 - ETA: 2:18 - loss: 0.1856 - accuracy: 0.93 - ETA: 2:17 - loss: 0.1848 - accuracy: 0.93 - ETA: 2:15 - loss: 0.1814 - accuracy: 0.93 - ETA: 2:14 - loss: 0.1811 - accuracy: 0.93 - ETA: 2:12 - loss: 0.1820 - accuracy: 0.93 - ETA: 2:10 - loss: 0.1823 - accuracy: 0.93 - ETA: 2:08 - loss: 0.1800 - accuracy: 0.93 - ETA: 2:08 - loss: 0.1779 - accuracy: 0.93 - ETA: 2:06 - loss: 0.1759 - accuracy: 0.93 - ETA: 2:05 - loss: 0.1822 - accuracy: 0.93 - ETA: 2:04 - loss: 0.1784 - accuracy: 0.93 - ETA: 2:02 - loss: 0.1812 - accuracy: 0.93 - ETA: 2:01 - loss: 0.1798 - accuracy: 0.93 - ETA: 2:00 - loss: 0.1786 - accuracy: 0.93 - ETA: 1:58 - loss: 0.1815 - accuracy: 0.93 - ETA: 1:56 - loss: 0.1832 - accuracy: 0.93 - ETA: 1:55 - loss: 0.1854 - accuracy: 0.93 - ETA: 1:54 - loss: 0.1888 - accuracy: 0.92 - ETA: 1:52 - loss: 0.1902 - accuracy: 0.92 - ETA: 1:51 - loss: 0.1897 - accuracy: 0.92 - ETA: 1:49 - loss: 0.1941 - accuracy: 0.92 - ETA: 1:48 - loss: 0.1955 - accuracy: 0.92 - ETA: 1:46 - loss: 0.1946 - accuracy: 0.92 - ETA: 1:45 - loss: 0.1952 - accuracy: 0.92 - ETA: 1:43 - loss: 0.1967 - accuracy: 0.92 - ETA: 1:42 - loss: 0.1960 - accuracy: 0.92 - ETA: 1:40 - loss: 0.1964 - accuracy: 0.92 - ETA: 1:39 - loss: 0.1988 - accuracy: 0.92 - ETA: 1:37 - loss: 0.1996 - accuracy: 0.92 - ETA: 1:36 - loss: 0.2002 - accuracy: 0.92 - ETA: 1:34 - loss: 0.2013 - accuracy: 0.92 - ETA: 1:33 - loss: 0.2008 - accuracy: 0.92 - ETA: 1:31 - loss: 0.2009 - accuracy: 0.92 - ETA: 1:29 - loss: 0.1999 - accuracy: 0.92 - ETA: 1:28 - loss: 0.2014 - accuracy: 0.92 - ETA: 1:26 - loss: 0.2006 - accuracy: 0.92 - ETA: 1:25 - loss: 0.2011 - accuracy: 0.92 - ETA: 1:23 - loss: 0.2009 - accuracy: 0.92 - ETA: 1:22 - loss: 0.1998 - accuracy: 0.92 - ETA: 1:21 - loss: 0.1994 - accuracy: 0.92 - ETA: 1:19 - loss: 0.1989 - accuracy: 0.92 - ETA: 1:18 - loss: 0.1998 - accuracy: 0.92 - ETA: 1:16 - loss: 0.1986 - accuracy: 0.92 - ETA: 1:15 - loss: 0.1976 - accuracy: 0.92 - ETA: 1:13 - loss: 0.1985 - accuracy: 0.92 - ETA: 1:12 - loss: 0.1974 - accuracy: 0.92 - ETA: 1:10 - loss: 0.1967 - accuracy: 0.92 - ETA: 1:09 - loss: 0.1955 - accuracy: 0.92 - ETA: 1:07 - loss: 0.1947 - accuracy: 0.92 - ETA: 1:06 - loss: 0.1947 - accuracy: 0.92 - ETA: 1:04 - loss: 0.1951 - accuracy: 0.92 - ETA: 1:03 - loss: 0.1943 - accuracy: 0.92 - ETA: 1:01 - loss: 0.1940 - accuracy: 0.92 - ETA: 1:00 - loss: 0.1935 - accuracy: 0.92 - ETA: 58s - loss: 0.1928 - accuracy: 0.9243 - ETA: 57s - loss: 0.1929 - accuracy: 0.924 - ETA: 55s - loss: 0.1921 - accuracy: 0.924 - ETA: 54s - loss: 0.1920 - accuracy: 0.924 - ETA: 52s - loss: 0.1922 - accuracy: 0.924 - ETA: 51s - loss: 0.1917 - accuracy: 0.924 - ETA: 49s - loss: 0.1911 - accuracy: 0.924 - ETA: 48s - loss: 0.1901 - accuracy: 0.925 - ETA: 46s - loss: 0.1902 - accuracy: 0.925 - ETA: 45s - loss: 0.1897 - accuracy: 0.925 - ETA: 43s - loss: 0.1901 - accuracy: 0.925 - ETA: 42s - loss: 0.1908 - accuracy: 0.925 - ETA: 40s - loss: 0.1902 - accuracy: 0.925 - ETA: 39s - loss: 0.1900 - accuracy: 0.925 - ETA: 37s - loss: 0.1894 - accuracy: 0.926 - ETA: 36s - loss: 0.1897 - accuracy: 0.926 - ETA: 34s - loss: 0.1894 - accuracy: 0.926 - ETA: 33s - loss: 0.1892 - accuracy: 0.926 - ETA: 31s - loss: 0.1890 - accuracy: 0.926 - ETA: 30s - loss: 0.1886 - accuracy: 0.926 - ETA: 28s - loss: 0.1894 - accuracy: 0.926 - ETA: 27s - loss: 0.1898 - accuracy: 0.925 - ETA: 25s - loss: 0.1904 - accuracy: 0.925 - ETA: 24s - loss: 0.1903 - accuracy: 0.925 - ETA: 22s - loss: 0.1899 - accuracy: 0.926 - ETA: 21s - loss: 0.1909 - accuracy: 0.925 - ETA: 19s - loss: 0.1902 - accuracy: 0.925 - ETA: 18s - loss: 0.1902 - accuracy: 0.925 - ETA: 16s - loss: 0.1908 - accuracy: 0.925 - ETA: 15s - loss: 0.1906 - accuracy: 0.925 - ETA: 13s - loss: 0.1899 - accuracy: 0.925 - ETA: 12s - loss: 0.1903 - accuracy: 0.925 - ETA: 10s - loss: 0.1897 - accuracy: 0.925 - ETA: 9s - loss: 0.1901 - accuracy: 0.925 - ETA: 7s - loss: 0.1899 - accuracy: 0.92 - ETA: 6s - loss: 0.1897 - accuracy: 0.92 - ETA: 4s - loss: 0.1896 - accuracy: 0.92 - ETA: 3s - loss: 0.1892 - accuracy: 0.92 - ETA: 1s - loss: 0.1891 - accuracy: 0.92 - 158s 5ms/step - loss: 0.1893 - accuracy: 0.9262 - val_loss: 0.2881 - val_accuracy: 0.8950\n",
      "Epoch 14/30\n",
      "30000/30000 [==============================] - ETA: 2:39 - loss: 0.1706 - accuracy: 0.92 - ETA: 2:32 - loss: 0.1509 - accuracy: 0.93 - ETA: 2:28 - loss: 0.1469 - accuracy: 0.94 - ETA: 2:27 - loss: 0.1389 - accuracy: 0.94 - ETA: 2:25 - loss: 0.1399 - accuracy: 0.94 - ETA: 2:23 - loss: 0.1439 - accuracy: 0.94 - ETA: 2:21 - loss: 0.1399 - accuracy: 0.94 - ETA: 2:19 - loss: 0.1382 - accuracy: 0.94 - ETA: 2:17 - loss: 0.1372 - accuracy: 0.94 - ETA: 2:16 - loss: 0.1380 - accuracy: 0.95 - ETA: 2:14 - loss: 0.1383 - accuracy: 0.94 - ETA: 2:13 - loss: 0.1398 - accuracy: 0.94 - ETA: 2:12 - loss: 0.1416 - accuracy: 0.94 - ETA: 2:10 - loss: 0.1479 - accuracy: 0.94 - ETA: 2:08 - loss: 0.1485 - accuracy: 0.94 - ETA: 2:07 - loss: 0.1491 - accuracy: 0.94 - ETA: 2:06 - loss: 0.1503 - accuracy: 0.94 - ETA: 2:04 - loss: 0.1535 - accuracy: 0.94 - ETA: 2:03 - loss: 0.1524 - accuracy: 0.94 - ETA: 2:01 - loss: 0.1516 - accuracy: 0.94 - ETA: 1:59 - loss: 0.1512 - accuracy: 0.94 - ETA: 1:58 - loss: 0.1521 - accuracy: 0.94 - ETA: 1:56 - loss: 0.1538 - accuracy: 0.94 - ETA: 1:54 - loss: 0.1524 - accuracy: 0.94 - ETA: 1:53 - loss: 0.1525 - accuracy: 0.94 - ETA: 1:51 - loss: 0.1515 - accuracy: 0.94 - ETA: 1:50 - loss: 0.1524 - accuracy: 0.94 - ETA: 1:48 - loss: 0.1529 - accuracy: 0.94 - ETA: 1:47 - loss: 0.1519 - accuracy: 0.94 - ETA: 1:45 - loss: 0.1518 - accuracy: 0.94 - ETA: 1:44 - loss: 0.1527 - accuracy: 0.94 - ETA: 1:42 - loss: 0.1537 - accuracy: 0.94 - ETA: 1:40 - loss: 0.1526 - accuracy: 0.94 - ETA: 1:39 - loss: 0.1510 - accuracy: 0.94 - ETA: 1:38 - loss: 0.1527 - accuracy: 0.94 - ETA: 1:37 - loss: 0.1516 - accuracy: 0.94 - ETA: 1:35 - loss: 0.1510 - accuracy: 0.94 - ETA: 1:34 - loss: 0.1510 - accuracy: 0.94 - ETA: 1:32 - loss: 0.1500 - accuracy: 0.94 - ETA: 1:31 - loss: 0.1509 - accuracy: 0.94 - ETA: 1:29 - loss: 0.1519 - accuracy: 0.94 - ETA: 1:28 - loss: 0.1521 - accuracy: 0.94 - ETA: 1:26 - loss: 0.1528 - accuracy: 0.94 - ETA: 1:25 - loss: 0.1526 - accuracy: 0.94 - ETA: 1:23 - loss: 0.1524 - accuracy: 0.94 - ETA: 1:22 - loss: 0.1523 - accuracy: 0.94 - ETA: 1:20 - loss: 0.1518 - accuracy: 0.94 - ETA: 1:19 - loss: 0.1518 - accuracy: 0.94 - ETA: 1:17 - loss: 0.1521 - accuracy: 0.94 - ETA: 1:16 - loss: 0.1525 - accuracy: 0.94 - ETA: 1:14 - loss: 0.1527 - accuracy: 0.94 - ETA: 1:13 - loss: 0.1523 - accuracy: 0.94 - ETA: 1:11 - loss: 0.1526 - accuracy: 0.94 - ETA: 1:10 - loss: 0.1525 - accuracy: 0.94 - ETA: 1:08 - loss: 0.1531 - accuracy: 0.94 - ETA: 1:06 - loss: 0.1529 - accuracy: 0.94 - ETA: 1:05 - loss: 0.1534 - accuracy: 0.94 - ETA: 1:03 - loss: 0.1532 - accuracy: 0.94 - ETA: 1:02 - loss: 0.1533 - accuracy: 0.94 - ETA: 1:00 - loss: 0.1535 - accuracy: 0.94 - ETA: 59s - loss: 0.1535 - accuracy: 0.9425 - ETA: 57s - loss: 0.1536 - accuracy: 0.942 - ETA: 56s - loss: 0.1530 - accuracy: 0.942 - ETA: 54s - loss: 0.1536 - accuracy: 0.942 - ETA: 53s - loss: 0.1531 - accuracy: 0.942 - ETA: 51s - loss: 0.1535 - accuracy: 0.942 - ETA: 49s - loss: 0.1538 - accuracy: 0.942 - ETA: 48s - loss: 0.1544 - accuracy: 0.942 - ETA: 46s - loss: 0.1545 - accuracy: 0.941 - ETA: 45s - loss: 0.1548 - accuracy: 0.941 - ETA: 43s - loss: 0.1549 - accuracy: 0.941 - ETA: 42s - loss: 0.1544 - accuracy: 0.941 - ETA: 40s - loss: 0.1553 - accuracy: 0.941 - ETA: 39s - loss: 0.1554 - accuracy: 0.941 - ETA: 37s - loss: 0.1556 - accuracy: 0.941 - ETA: 36s - loss: 0.1556 - accuracy: 0.940 - ETA: 34s - loss: 0.1558 - accuracy: 0.940 - ETA: 33s - loss: 0.1556 - accuracy: 0.940 - ETA: 31s - loss: 0.1563 - accuracy: 0.940 - ETA: 30s - loss: 0.1567 - accuracy: 0.940 - ETA: 28s - loss: 0.1572 - accuracy: 0.940 - ETA: 27s - loss: 0.1573 - accuracy: 0.940 - ETA: 25s - loss: 0.1576 - accuracy: 0.940 - ETA: 24s - loss: 0.1580 - accuracy: 0.940 - ETA: 22s - loss: 0.1584 - accuracy: 0.939 - ETA: 21s - loss: 0.1586 - accuracy: 0.939 - ETA: 19s - loss: 0.1586 - accuracy: 0.939 - ETA: 18s - loss: 0.1593 - accuracy: 0.939 - ETA: 16s - loss: 0.1593 - accuracy: 0.939 - ETA: 15s - loss: 0.1590 - accuracy: 0.939 - ETA: 13s - loss: 0.1591 - accuracy: 0.939 - ETA: 12s - loss: 0.1591 - accuracy: 0.939 - ETA: 10s - loss: 0.1594 - accuracy: 0.939 - ETA: 9s - loss: 0.1594 - accuracy: 0.939 - ETA: 7s - loss: 0.1598 - accuracy: 0.93 - ETA: 6s - loss: 0.1603 - accuracy: 0.93 - ETA: 4s - loss: 0.1602 - accuracy: 0.93 - ETA: 3s - loss: 0.1599 - accuracy: 0.93 - ETA: 1s - loss: 0.1600 - accuracy: 0.93 - 160s 5ms/step - loss: 0.1600 - accuracy: 0.9393 - val_loss: 0.2712 - val_accuracy: 0.8953\n",
      "Epoch 15/30\n",
      "30000/30000 [==============================] - ETA: 2:27 - loss: 0.1292 - accuracy: 0.95 - ETA: 2:31 - loss: 0.1176 - accuracy: 0.96 - ETA: 2:27 - loss: 0.1292 - accuracy: 0.95 - ETA: 2:24 - loss: 0.1283 - accuracy: 0.94 - ETA: 2:22 - loss: 0.1260 - accuracy: 0.95 - ETA: 2:21 - loss: 0.1287 - accuracy: 0.95 - ETA: 2:19 - loss: 0.1289 - accuracy: 0.95 - ETA: 2:18 - loss: 0.1255 - accuracy: 0.95 - ETA: 2:16 - loss: 0.1233 - accuracy: 0.95 - ETA: 2:14 - loss: 0.1262 - accuracy: 0.95 - ETA: 2:13 - loss: 0.1276 - accuracy: 0.95 - ETA: 2:14 - loss: 0.1311 - accuracy: 0.95 - ETA: 2:12 - loss: 0.1355 - accuracy: 0.95 - ETA: 2:10 - loss: 0.1348 - accuracy: 0.95 - ETA: 2:08 - loss: 0.1377 - accuracy: 0.95 - ETA: 2:06 - loss: 0.1368 - accuracy: 0.95 - ETA: 2:05 - loss: 0.1367 - accuracy: 0.95 - ETA: 2:05 - loss: 0.1363 - accuracy: 0.95 - ETA: 2:03 - loss: 0.1364 - accuracy: 0.95 - ETA: 2:01 - loss: 0.1387 - accuracy: 0.94 - ETA: 2:00 - loss: 0.1391 - accuracy: 0.94 - ETA: 1:58 - loss: 0.1394 - accuracy: 0.94 - ETA: 1:57 - loss: 0.1390 - accuracy: 0.94 - ETA: 1:55 - loss: 0.1376 - accuracy: 0.94 - ETA: 1:53 - loss: 0.1384 - accuracy: 0.94 - ETA: 1:52 - loss: 0.1403 - accuracy: 0.94 - ETA: 1:50 - loss: 0.1402 - accuracy: 0.94 - ETA: 1:49 - loss: 0.1390 - accuracy: 0.94 - ETA: 1:47 - loss: 0.1386 - accuracy: 0.94 - ETA: 1:45 - loss: 0.1378 - accuracy: 0.95 - ETA: 1:44 - loss: 0.1381 - accuracy: 0.95 - ETA: 1:42 - loss: 0.1383 - accuracy: 0.94 - ETA: 1:41 - loss: 0.1372 - accuracy: 0.95 - ETA: 1:39 - loss: 0.1381 - accuracy: 0.94 - ETA: 1:38 - loss: 0.1385 - accuracy: 0.94 - ETA: 1:36 - loss: 0.1383 - accuracy: 0.95 - ETA: 1:35 - loss: 0.1382 - accuracy: 0.95 - ETA: 1:33 - loss: 0.1384 - accuracy: 0.95 - ETA: 1:32 - loss: 0.1380 - accuracy: 0.95 - ETA: 1:30 - loss: 0.1384 - accuracy: 0.95 - ETA: 1:28 - loss: 0.1405 - accuracy: 0.94 - ETA: 1:27 - loss: 0.1394 - accuracy: 0.95 - ETA: 1:25 - loss: 0.1391 - accuracy: 0.95 - ETA: 1:24 - loss: 0.1387 - accuracy: 0.95 - ETA: 1:22 - loss: 0.1398 - accuracy: 0.94 - ETA: 1:20 - loss: 0.1389 - accuracy: 0.94 - ETA: 1:19 - loss: 0.1385 - accuracy: 0.95 - ETA: 1:17 - loss: 0.1380 - accuracy: 0.95 - ETA: 1:16 - loss: 0.1381 - accuracy: 0.95 - ETA: 1:14 - loss: 0.1379 - accuracy: 0.95 - ETA: 1:13 - loss: 0.1376 - accuracy: 0.95 - ETA: 1:11 - loss: 0.1376 - accuracy: 0.95 - ETA: 1:10 - loss: 0.1371 - accuracy: 0.95 - ETA: 1:09 - loss: 0.1374 - accuracy: 0.95 - ETA: 1:07 - loss: 0.1371 - accuracy: 0.95 - ETA: 1:06 - loss: 0.1372 - accuracy: 0.95 - ETA: 1:04 - loss: 0.1371 - accuracy: 0.95 - ETA: 1:03 - loss: 0.1379 - accuracy: 0.95 - ETA: 1:01 - loss: 0.1384 - accuracy: 0.94 - ETA: 1:00 - loss: 0.1388 - accuracy: 0.94 - ETA: 58s - loss: 0.1394 - accuracy: 0.9491 - ETA: 57s - loss: 0.1388 - accuracy: 0.949 - ETA: 55s - loss: 0.1387 - accuracy: 0.949 - ETA: 54s - loss: 0.1395 - accuracy: 0.949 - ETA: 52s - loss: 0.1399 - accuracy: 0.949 - ETA: 51s - loss: 0.1398 - accuracy: 0.949 - ETA: 49s - loss: 0.1405 - accuracy: 0.949 - ETA: 48s - loss: 0.1404 - accuracy: 0.949 - ETA: 46s - loss: 0.1399 - accuracy: 0.949 - ETA: 45s - loss: 0.1393 - accuracy: 0.949 - ETA: 43s - loss: 0.1400 - accuracy: 0.949 - ETA: 42s - loss: 0.1404 - accuracy: 0.949 - ETA: 40s - loss: 0.1404 - accuracy: 0.949 - ETA: 39s - loss: 0.1423 - accuracy: 0.948 - ETA: 37s - loss: 0.1432 - accuracy: 0.947 - ETA: 35s - loss: 0.1432 - accuracy: 0.947 - ETA: 34s - loss: 0.1440 - accuracy: 0.947 - ETA: 32s - loss: 0.1453 - accuracy: 0.946 - ETA: 31s - loss: 0.1459 - accuracy: 0.946 - ETA: 29s - loss: 0.1465 - accuracy: 0.946 - ETA: 28s - loss: 0.1468 - accuracy: 0.946 - ETA: 26s - loss: 0.1473 - accuracy: 0.946 - ETA: 25s - loss: 0.1473 - accuracy: 0.946 - ETA: 23s - loss: 0.1471 - accuracy: 0.946 - ETA: 22s - loss: 0.1476 - accuracy: 0.945 - ETA: 21s - loss: 0.1474 - accuracy: 0.945 - ETA: 19s - loss: 0.1474 - accuracy: 0.945 - ETA: 18s - loss: 0.1469 - accuracy: 0.945 - ETA: 16s - loss: 0.1476 - accuracy: 0.945 - ETA: 15s - loss: 0.1478 - accuracy: 0.945 - ETA: 13s - loss: 0.1480 - accuracy: 0.945 - ETA: 12s - loss: 0.1477 - accuracy: 0.945 - ETA: 10s - loss: 0.1478 - accuracy: 0.945 - ETA: 8s - loss: 0.1484 - accuracy: 0.944 - ETA: 7s - loss: 0.1483 - accuracy: 0.94 - ETA: 5s - loss: 0.1487 - accuracy: 0.94 - ETA: 4s - loss: 0.1485 - accuracy: 0.94 - ETA: 2s - loss: 0.1484 - accuracy: 0.94 - ETA: 1s - loss: 0.1479 - accuracy: 0.94 - 162s 5ms/step - loss: 0.1479 - accuracy: 0.9449 - val_loss: 0.3009 - val_accuracy: 0.8997\n"
     ]
    }
   ],
   "source": [
    "# let's begin training our network\n",
    "history = model.fit(data[\"trainX\"], data[\"trainY\"], batch_size=batchSize, epochs=epochs, \n",
    "                    validation_data=(data[\"valX\"], data[\"valY\"]), callbacks=[ES], verbose=1)"
   ]
  },
  {
   "cell_type": "code",
   "execution_count": 19,
   "metadata": {},
   "outputs": [
    {
     "data": {
      "text/plain": [
       "array([0, 1, 1, ..., 0, 1, 1], dtype=int64)"
      ]
     },
     "execution_count": 19,
     "metadata": {},
     "output_type": "execute_result"
    }
   ],
   "source": [
    "# time to test our model\n",
    "prediction = model.predict(data[\"testX\"], batch_size=batchSize)\n",
    "\n",
    "# let's grab the class with maximum probability\n",
    "predictionIdx = np.argmax(prediction, axis=1)\n",
    "\n",
    "predictionIdx"
   ]
  },
  {
   "cell_type": "code",
   "execution_count": 20,
   "metadata": {},
   "outputs": [
    {
     "name": "stdout",
     "output_type": "stream",
     "text": [
      "              precision    recall  f1-score   support\n",
      "\n",
      "    negative       0.88      0.90      0.89      5005\n",
      "    positive       0.90      0.88      0.89      4995\n",
      "\n",
      "    accuracy                           0.89     10000\n",
      "   macro avg       0.89      0.89      0.89     10000\n",
      "weighted avg       0.89      0.89      0.89     10000\n",
      "\n"
     ]
    }
   ],
   "source": [
    "# let's have a view at classification_report\n",
    "print(classification_report(data[\"testY\"].argmax(axis=1), predictionIdx, target_names=['negative', 'positive']))"
   ]
  },
  {
   "cell_type": "code",
   "execution_count": 25,
   "metadata": {},
   "outputs": [
    {
     "name": "stdout",
     "output_type": "stream",
     "text": [
      "[INFO] Saving the model to disk...\n"
     ]
    }
   ],
   "source": [
    "# serializing model to disk\n",
    "print(\"[INFO] Saving the model to disk...\")\n",
    "model.save(modelName)"
   ]
  },
  {
   "cell_type": "code",
   "execution_count": 22,
   "metadata": {},
   "outputs": [
    {
     "data": {
      "image/png": "[encoded data removed]",
      "text/plain": [
       "<Figure size 1152x720 with 1 Axes>"
      ]
     },
     "metadata": {
      "needs_background": "light"
     },
     "output_type": "display_data"
    }
   ],
   "source": [
    "# let's plot a graph for training history\n",
    "epochs = 15\n",
    "\n",
    "plt.figure(figsize=(16, 10))\n",
    "\n",
    "plt.plot(np.arange(0, epochs), history.history[\"loss\"], label=\"train_loss\")\n",
    "plt.plot(np.arange(0, epochs), history.history[\"val_loss\"], label=\"val_loss\")\n",
    "plt.plot(np.arange(0, epochs), history.history[\"accuracy\"], label=\"train_acc\")\n",
    "plt.plot(np.arange(0, epochs), history.history[\"val_accuracy\"], label=\"val_acc\")\n",
    "\n",
    "plt.title(\"Training Loss and Accuracy on Dataset!\")\n",
    "plt.xlabel(\"Epoch #\")\n",
    "plt.ylabel(\"Loss/Accuracy\")\n",
    "plt.legend(loc=\"lower left\")\n",
    "\n",
    "plt.show()"
   ]
  },
  {
   "cell_type": "code",
   "execution_count": 55,
   "metadata": {},
   "outputs": [
    {
     "name": "stdout",
     "output_type": "stream",
     "text": [
      "[INFO] Prediction Vector:  [0.06741302 0.932587  ]\n",
      "[INFO] Prediction Index:  1\n"
     ]
    }
   ],
   "source": [
    "# let's just test our RNN here\n",
    "tokenizer_ = Tokenizer(num_words=numWords, oov_token=oovToken)\n",
    "tokenizer_.fit_on_texts(reviews)\n",
    "sequence = tokenizer_.texts_to_sequences([\"the movie is simple and sweet but is highly recommended\"])\n",
    "sequence = pad_sequences(sequence, maxlen=300)\n",
    "\n",
    "prediction = model.predict(sequence)[0]\n",
    "print(\"[INFO] Prediction Vector: \", prediction)\n",
    "\n",
    "predictionIdx = np.argmax(prediction)\n",
    "print(\"[INFO] Prediction Index: \", predictionIdx)"
   ]
  },
  {
   "cell_type": "code",
   "execution_count": null,
   "metadata": {},
   "outputs": [],
   "source": []
  }
 ],
 "metadata": {
  "kernelspec": {
   "display_name": "Python 3",
   "language": "python",
   "name": "python3"
  },
  "language_info": {
   "codemirror_mode": {
    "name": "ipython",
    "version": 3
   },
   "file_extension": ".py",
   "mimetype": "text/x-python",
   "name": "python",
   "nbconvert_exporter": "python",
   "pygments_lexer": "ipython3",
   "version": "3.7.4"
  }
 },
 "nbformat": 4,
 "nbformat_minor": 4
}
